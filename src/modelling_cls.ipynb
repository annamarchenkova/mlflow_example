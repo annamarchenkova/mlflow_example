{
 "cells": [
  {
   "attachments": {},
   "cell_type": "markdown",
   "id": "3c770aa3-242e-48ab-9799-9012ca36ce27",
   "metadata": {},
   "source": [
    "# Classification example \n",
    "with `MLflow`, `Catboost`, `Optuna` and `SHAP`."
   ]
  },
  {
   "cell_type": "markdown",
   "id": "b60e6e42",
   "metadata": {},
   "source": [
    "## Imports"
   ]
  },
  {
   "cell_type": "code",
   "execution_count": 27,
   "id": "1a2db5bf-962a-465c-ba6e-378ae1518ad6",
   "metadata": {},
   "outputs": [
    {
     "name": "stdout",
     "output_type": "stream",
     "text": [
      "The autoreload extension is already loaded. To reload it, use:\n",
      "  %reload_ext autoreload\n"
     ]
    }
   ],
   "source": [
    "import os\n",
    "import pandas as pd\n",
    "import numpy as np\n",
    "import matplotlib.pyplot as plt\n",
    "import pickle\n",
    "from datetime import datetime\n",
    "from pathlib import Path\n",
    "\n",
    "from catboost import CatBoostClassifier, Pool\n",
    "from sklearn.metrics import precision_score, recall_score\n",
    "import sklearn\n",
    "import mlflow\n",
    "import mlflow.sklearn\n",
    "from mlflow.models import infer_signature\n",
    "\n",
    "from project_dirs import (\n",
    "    PROJECT_DIR, DATA_DIR, MODELS_DIR, FIGURES_DIR\n",
    ")\n",
    "from utils import *\n",
    "\n",
    "import optuna\n",
    "from optuna.samplers import TPESampler\n",
    "import joblib\n",
    "\n",
    "import matplotlib as mpl\n",
    "mpl.style.use('fivethirtyeight')\n",
    "\n",
    "%load_ext autoreload\n",
    "%autoreload 3\n",
    "\n",
    "for i in [FIGURES_DIR, MODELS_DIR]:\n",
    "    os.makedirs(i, exist_ok=True)"
   ]
  },
  {
   "cell_type": "markdown",
   "id": "dab72ee5",
   "metadata": {},
   "source": [
    "## Dataset, params"
   ]
  },
  {
   "cell_type": "code",
   "execution_count": 3,
   "id": "4196c543",
   "metadata": {},
   "outputs": [],
   "source": [
    "# load config\n",
    "cnf = load_config(cnf_dir=PROJECT_DIR, cnf_name='config.yml')"
   ]
  },
  {
   "cell_type": "code",
   "execution_count": 4,
   "id": "76342f47",
   "metadata": {},
   "outputs": [
    {
     "name": "stdout",
     "output_type": "stream",
     "text": [
      "Trying to load a list of collinear features collinear_fs_vif_60.csv\n"
     ]
    }
   ],
   "source": [
    "# dataset\n",
    "ds = sklearn.datasets.load_breast_cancer()\n",
    "df = pd.DataFrame(ds['data'], columns=ds['feature_names'])\n",
    "assert df.isna().sum().sum() == 0\n",
    "\n",
    "df_preproc = preprocessing(\n",
    "    df,\n",
    "    cnf,\n",
    "    drop_collinear_fs=True,\n",
    "    datetime_cols=None,\n",
    "    save_pickle=True,\n",
    "    save_csv=True\n",
    "    )\n",
    "\n",
    "assert df.shape[0] == df_preproc.shape[0]\n",
    "\n",
    "y = ds['target']\n",
    "X = df_preproc.copy()\n",
    "X_train, X_test, y_train, y_test = train_test_split(\n",
    "    X, y, test_size=cnf['test_size'], random_state=cnf['random_state'],\n",
    "    )\n",
    "cat_features = np.where(X.dtypes == 'object')[0]"
   ]
  },
  {
   "attachments": {},
   "cell_type": "markdown",
   "id": "bcf03835",
   "metadata": {},
   "source": [
    "## Optuna HO"
   ]
  },
  {
   "attachments": {},
   "cell_type": "markdown",
   "id": "50c06f6b",
   "metadata": {},
   "source": [
    "### Objective function to optimize"
   ]
  },
  {
   "cell_type": "code",
   "execution_count": 4,
   "id": "43e2d9ec",
   "metadata": {},
   "outputs": [],
   "source": [
    "def objective(trial):\n",
    "    \n",
    "    param = {\n",
    "        \"loss_function\": trial.suggest_categorical(\"loss_function\", [\"Logloss\", \"CrossEntropy\"]),\n",
    "        \"learning_rate\": trial.suggest_float(\"learning_rate\", 1e-4, 1e0),\n",
    "        \"l2_leaf_reg\": trial.suggest_float(\"l2_leaf_reg\", 1e-2, 1e0),\n",
    "        \"colsample_bylevel\": trial.suggest_float(\"colsample_bylevel\", 0.01, 0.1),\n",
    "        \"depth\": trial.suggest_int(\"depth\", 1, 15),\n",
    "        \"boosting_type\": trial.suggest_categorical(\"boosting_type\", [\"Ordered\", \"Plain\"]),\n",
    "        \"bootstrap_type\": trial.suggest_categorical(\"bootstrap_type\", [\"Bayesian\", \"Bernoulli\", \"MVS\"]),\n",
    "        \"min_data_in_leaf\": trial.suggest_int(\"min_data_in_leaf\", 2, 20),\n",
    "        \"one_hot_max_size\": trial.suggest_int(\"one_hot_max_size\", 2, 20),  \n",
    "    }\n",
    "    # Conditional Hyper-Parameters\n",
    "    if param[\"bootstrap_type\"] == \"Bayesian\":\n",
    "        param[\"bagging_temperature\"] = trial.suggest_float(\"bagging_temperature\", 0, 10)\n",
    "    elif param[\"bootstrap_type\"] == \"Bernoulli\":\n",
    "        param[\"subsample\"] = trial.suggest_float(\"subsample\", 0.1, 1)\n",
    "\n",
    "    model = CatBoostClassifier(**param, cat_features=cat_features)\n",
    "    # model.fit(X_train, y_train, eval_set=[(X_test, y_test)], verbose=0, early_stopping_rounds=10)\n",
    "\n",
    "    cv = StratifiedKFold(n_splits=3, shuffle=True, random_state=42)\n",
    "\n",
    "    cv_scores = []\n",
    "    for train_idx, test_idx in cv.split(X_train, y_train):\n",
    "        X_train_optuna, y_train_optuna = X_train.iloc[train_idx], y_train[train_idx]\n",
    "        X_test_optuna, y_test_optuna = X_train.iloc[test_idx], y_train[test_idx]\n",
    "\n",
    "        model.fit(\n",
    "            X_train_optuna, y_train_optuna, \n",
    "            eval_set=[(X_test_optuna, y_test_optuna)], \n",
    "            verbose=0, \n",
    "            early_stopping_rounds=10\n",
    "            )\n",
    "\n",
    "        y_pred = model.predict(X_test_optuna)\n",
    "        score = metrics.roc_auc_score(y_test_optuna, y_pred)\n",
    "        cv_scores.append(score)\n",
    "   \n",
    "    return np.mean(cv_scores)"
   ]
  },
  {
   "attachments": {},
   "cell_type": "markdown",
   "id": "50c06f6b",
   "metadata": {},
   "source": [
    "### Run Optuna study"
   ]
  },
  {
   "cell_type": "code",
   "execution_count": 5,
   "id": "b44cce9a",
   "metadata": {},
   "outputs": [
    {
     "name": "stderr",
     "output_type": "stream",
     "text": [
      "[I 2024-01-23 12:13:20,895] A new study created in memory with name: no-name-52f19924-38b4-4350-bb7f-24960554c2df\n",
      "[I 2024-01-23 12:13:21,833] Trial 0 finished with value: 0.9493348300111073 and parameters: {'loss_function': 'CrossEntropy', 'learning_rate': 0.03367329909016507, 'l2_leaf_reg': 0.10670248262195946, 'colsample_bylevel': 0.07035118006272163, 'depth': 5, 'boosting_type': 'Plain', 'bootstrap_type': 'Bayesian', 'min_data_in_leaf': 18, 'one_hot_max_size': 5, 'bagging_temperature': 1.0076976715509733}. Best is trial 0 with value: 0.9493348300111073.\n",
      "[I 2024-01-23 12:13:22,033] Trial 1 finished with value: 0.8932103496657239 and parameters: {'loss_function': 'CrossEntropy', 'learning_rate': 0.4473543881710518, 'l2_leaf_reg': 0.9902904924889474, 'colsample_bylevel': 0.010025515309873426, 'depth': 6, 'boosting_type': 'Plain', 'bootstrap_type': 'Bayesian', 'min_data_in_leaf': 14, 'one_hot_max_size': 6, 'bagging_temperature': 6.508145094202877}. Best is trial 0 with value: 0.9493348300111073.\n",
      "[I 2024-01-23 12:13:22,450] Trial 2 finished with value: 0.9322053589278521 and parameters: {'loss_function': 'Logloss', 'learning_rate': 0.9337893489170415, 'l2_leaf_reg': 0.8048055285703075, 'colsample_bylevel': 0.0972850660706638, 'depth': 13, 'boosting_type': 'Plain', 'bootstrap_type': 'Bernoulli', 'min_data_in_leaf': 16, 'one_hot_max_size': 3, 'subsample': 0.24083714511050403}. Best is trial 0 with value: 0.9493348300111073.\n",
      "[I 2024-01-23 12:13:22,887] Trial 3 finished with value: 0.8505007498488525 and parameters: {'loss_function': 'Logloss', 'learning_rate': 0.5161692401933422, 'l2_leaf_reg': 0.18093493229629792, 'colsample_bylevel': 0.018158072295098127, 'depth': 2, 'boosting_type': 'Ordered', 'bootstrap_type': 'MVS', 'min_data_in_leaf': 10, 'one_hot_max_size': 15}. Best is trial 0 with value: 0.9493348300111073.\n",
      "[I 2024-01-23 12:13:23,452] Trial 4 finished with value: 0.9069271779892937 and parameters: {'loss_function': 'CrossEntropy', 'learning_rate': 0.8948199350257202, 'l2_leaf_reg': 0.23302064396052793, 'colsample_bylevel': 0.04993686375234677, 'depth': 12, 'boosting_type': 'Ordered', 'bootstrap_type': 'Bayesian', 'min_data_in_leaf': 8, 'one_hot_max_size': 5, 'bagging_temperature': 7.414418918975388}. Best is trial 0 with value: 0.9493348300111073.\n",
      "[I 2024-01-23 12:13:24,016] Trial 5 finished with value: 0.929876433485719 and parameters: {'loss_function': 'CrossEntropy', 'learning_rate': 0.688007397242391, 'l2_leaf_reg': 0.13963539094902225, 'colsample_bylevel': 0.03562228755568278, 'depth': 11, 'boosting_type': 'Ordered', 'bootstrap_type': 'Bayesian', 'min_data_in_leaf': 7, 'one_hot_max_size': 13, 'bagging_temperature': 3.4094810445437975}. Best is trial 0 with value: 0.9493348300111073.\n",
      "[I 2024-01-23 12:13:24,500] Trial 6 finished with value: 0.9461693685988788 and parameters: {'loss_function': 'CrossEntropy', 'learning_rate': 0.14723784956434008, 'l2_leaf_reg': 0.3434556820451252, 'colsample_bylevel': 0.0790934421889756, 'depth': 14, 'boosting_type': 'Plain', 'bootstrap_type': 'Bayesian', 'min_data_in_leaf': 2, 'one_hot_max_size': 9, 'bagging_temperature': 6.753353680806401}. Best is trial 0 with value: 0.9493348300111073.\n",
      "[I 2024-01-23 12:13:24,816] Trial 7 finished with value: 0.9583098835695826 and parameters: {'loss_function': 'Logloss', 'learning_rate': 0.5741538845024498, 'l2_leaf_reg': 0.6303284698177444, 'colsample_bylevel': 0.07620307327863952, 'depth': 11, 'boosting_type': 'Plain', 'bootstrap_type': 'Bernoulli', 'min_data_in_leaf': 10, 'one_hot_max_size': 20, 'subsample': 0.7782033493494536}. Best is trial 7 with value: 0.9583098835695826.\n",
      "[I 2024-01-23 12:13:25,000] Trial 8 finished with value: 0.8621622433738185 and parameters: {'loss_function': 'Logloss', 'learning_rate': 0.5436442259415862, 'l2_leaf_reg': 0.9645879263070144, 'colsample_bylevel': 0.010779713969626528, 'depth': 8, 'boosting_type': 'Plain', 'bootstrap_type': 'Bayesian', 'min_data_in_leaf': 11, 'one_hot_max_size': 14, 'bagging_temperature': 4.882870536121584}. Best is trial 7 with value: 0.9583098835695826.\n",
      "[I 2024-01-23 12:13:25,472] Trial 9 finished with value: 0.924819453428739 and parameters: {'loss_function': 'CrossEntropy', 'learning_rate': 0.6353828990452993, 'l2_leaf_reg': 0.4766235793088774, 'colsample_bylevel': 0.053116492215736805, 'depth': 9, 'boosting_type': 'Ordered', 'bootstrap_type': 'Bayesian', 'min_data_in_leaf': 4, 'one_hot_max_size': 19, 'bagging_temperature': 2.2231828368430016}. Best is trial 7 with value: 0.9583098835695826.\n",
      "[I 2024-01-23 12:13:25,842] Trial 10 finished with value: 0.9619531131562084 and parameters: {'loss_function': 'Logloss', 'learning_rate': 0.31792270022097613, 'l2_leaf_reg': 0.6572969234371788, 'colsample_bylevel': 0.09566376391821445, 'depth': 1, 'boosting_type': 'Plain', 'bootstrap_type': 'Bernoulli', 'min_data_in_leaf': 20, 'one_hot_max_size': 20, 'subsample': 0.9548313447250911}. Best is trial 10 with value: 0.9619531131562084.\n",
      "[I 2024-01-23 12:13:26,186] Trial 11 finished with value: 0.9505463508060498 and parameters: {'loss_function': 'Logloss', 'learning_rate': 0.2875350255934283, 'l2_leaf_reg': 0.6795437599529632, 'colsample_bylevel': 0.09555052281504926, 'depth': 1, 'boosting_type': 'Plain', 'bootstrap_type': 'Bernoulli', 'min_data_in_leaf': 19, 'one_hot_max_size': 20, 'subsample': 0.9758592166070943}. Best is trial 10 with value: 0.9619531131562084.\n",
      "[I 2024-01-23 12:13:26,519] Trial 12 finished with value: 0.9487549730712758 and parameters: {'loss_function': 'Logloss', 'learning_rate': 0.29391890758339845, 'l2_leaf_reg': 0.6175730760186352, 'colsample_bylevel': 0.07823837693761838, 'depth': 4, 'boosting_type': 'Plain', 'bootstrap_type': 'Bernoulli', 'min_data_in_leaf': 14, 'one_hot_max_size': 17, 'subsample': 0.9250594012482757}. Best is trial 10 with value: 0.9619531131562084.\n",
      "[I 2024-01-23 12:13:26,945] Trial 13 finished with value: 0.9593278418909117 and parameters: {'loss_function': 'Logloss', 'learning_rate': 0.34864172659563264, 'l2_leaf_reg': 0.49888596303227406, 'colsample_bylevel': 0.08621195507074467, 'depth': 9, 'boosting_type': 'Plain', 'bootstrap_type': 'Bernoulli', 'min_data_in_leaf': 20, 'one_hot_max_size': 17, 'subsample': 0.7096455516403796}. Best is trial 10 with value: 0.9619531131562084.\n",
      "[I 2024-01-23 12:13:27,333] Trial 14 finished with value: 0.9537911458040779 and parameters: {'loss_function': 'Logloss', 'learning_rate': 0.3344966857377034, 'l2_leaf_reg': 0.4514808693973475, 'colsample_bylevel': 0.08947023323109751, 'depth': 8, 'boosting_type': 'Plain', 'bootstrap_type': 'Bernoulli', 'min_data_in_leaf': 20, 'one_hot_max_size': 17, 'subsample': 0.5835147059625797}. Best is trial 10 with value: 0.9619531131562084.\n",
      "[I 2024-01-23 12:13:27,733] Trial 15 finished with value: 0.9487133584229196 and parameters: {'loss_function': 'Logloss', 'learning_rate': 0.1750594044849697, 'l2_leaf_reg': 0.7996424800142479, 'colsample_bylevel': 0.0656629499431571, 'depth': 3, 'boosting_type': 'Plain', 'bootstrap_type': 'MVS', 'min_data_in_leaf': 16, 'one_hot_max_size': 10}. Best is trial 10 with value: 0.9619531131562084.\n",
      "[I 2024-01-23 12:13:28,075] Trial 16 finished with value: 0.9545229505691664 and parameters: {'loss_function': 'Logloss', 'learning_rate': 0.40384110456687394, 'l2_leaf_reg': 0.30531711749985274, 'colsample_bylevel': 0.08676926422561601, 'depth': 7, 'boosting_type': 'Plain', 'bootstrap_type': 'Bernoulli', 'min_data_in_leaf': 17, 'one_hot_max_size': 17, 'subsample': 0.6409704190102704}. Best is trial 10 with value: 0.9619531131562084.\n",
      "[I 2024-01-23 12:13:28,833] Trial 17 finished with value: 0.9506672990402055 and parameters: {'loss_function': 'Logloss', 'learning_rate': 0.16031176730511615, 'l2_leaf_reg': 0.5368454235276585, 'colsample_bylevel': 0.09989756545081697, 'depth': 10, 'boosting_type': 'Plain', 'bootstrap_type': 'Bernoulli', 'min_data_in_leaf': 20, 'one_hot_max_size': 13, 'subsample': 0.30924808226316824}. Best is trial 10 with value: 0.9619531131562084.\n",
      "[I 2024-01-23 12:13:29,349] Trial 18 finished with value: 0.9350543617768549 and parameters: {'loss_function': 'Logloss', 'learning_rate': 0.7540963162643113, 'l2_leaf_reg': 0.7773055462334372, 'colsample_bylevel': 0.06273399997210309, 'depth': 15, 'boosting_type': 'Ordered', 'bootstrap_type': 'Bernoulli', 'min_data_in_leaf': 14, 'one_hot_max_size': 18, 'subsample': 0.7901016757710206}. Best is trial 10 with value: 0.9619531131562084.\n",
      "[I 2024-01-23 12:13:31,020] Trial 19 finished with value: 0.9543313359510095 and parameters: {'loss_function': 'Logloss', 'learning_rate': 0.014242348072201927, 'l2_leaf_reg': 0.39815269311462914, 'colsample_bylevel': 0.08452613281369131, 'depth': 6, 'boosting_type': 'Plain', 'bootstrap_type': 'MVS', 'min_data_in_leaf': 13, 'one_hot_max_size': 15}. Best is trial 10 with value: 0.9619531131562084.\n",
      "[I 2024-01-23 12:13:31,250] Trial 20 finished with value: 0.9355945519237866 and parameters: {'loss_function': 'Logloss', 'learning_rate': 0.37876390130218746, 'l2_leaf_reg': 0.029148887067574347, 'colsample_bylevel': 0.04314179895757923, 'depth': 1, 'boosting_type': 'Plain', 'bootstrap_type': 'Bernoulli', 'min_data_in_leaf': 18, 'one_hot_max_size': 12, 'subsample': 0.42845026209533416}. Best is trial 10 with value: 0.9619531131562084.\n",
      "[I 2024-01-23 12:13:31,499] Trial 21 finished with value: 0.9557242790971855 and parameters: {'loss_function': 'Logloss', 'learning_rate': 0.5776306218507934, 'l2_leaf_reg': 0.571586079670927, 'colsample_bylevel': 0.07538896119533078, 'depth': 10, 'boosting_type': 'Plain', 'bootstrap_type': 'Bernoulli', 'min_data_in_leaf': 11, 'one_hot_max_size': 20, 'subsample': 0.7727209817222678}. Best is trial 10 with value: 0.9619531131562084.\n",
      "[I 2024-01-23 12:13:32,325] Trial 22 finished with value: 0.9582286021283265 and parameters: {'loss_function': 'Logloss', 'learning_rate': 0.2445030177984553, 'l2_leaf_reg': 0.6654165373357075, 'colsample_bylevel': 0.08991687767210091, 'depth': 12, 'boosting_type': 'Plain', 'bootstrap_type': 'Bernoulli', 'min_data_in_leaf': 7, 'one_hot_max_size': 20, 'subsample': 0.7822593880793098}. Best is trial 10 with value: 0.9619531131562084.\n",
      "[I 2024-01-23 12:13:32,666] Trial 23 finished with value: 0.9464442125137481 and parameters: {'loss_function': 'Logloss', 'learning_rate': 0.4561416056126977, 'l2_leaf_reg': 0.724307065907344, 'colsample_bylevel': 0.0825587087411224, 'depth': 10, 'boosting_type': 'Plain', 'bootstrap_type': 'Bernoulli', 'min_data_in_leaf': 9, 'one_hot_max_size': 18, 'subsample': 0.8658850862897411}. Best is trial 10 with value: 0.9619531131562084.\n",
      "[I 2024-01-23 12:13:32,915] Trial 24 finished with value: 0.9259395005155021 and parameters: {'loss_function': 'Logloss', 'learning_rate': 0.7125362037331084, 'l2_leaf_reg': 0.9015628379378414, 'colsample_bylevel': 0.0690948046395107, 'depth': 9, 'boosting_type': 'Plain', 'bootstrap_type': 'Bernoulli', 'min_data_in_leaf': 12, 'one_hot_max_size': 16, 'subsample': 0.7450129086389012}. Best is trial 10 with value: 0.9619531131562084.\n",
      "[I 2024-01-23 12:13:33,250] Trial 25 finished with value: 0.9619927799491083 and parameters: {'loss_function': 'Logloss', 'learning_rate': 0.7751042967980376, 'l2_leaf_reg': 0.5932171958242238, 'colsample_bylevel': 0.05946802521139698, 'depth': 12, 'boosting_type': 'Plain', 'bootstrap_type': 'Bernoulli', 'min_data_in_leaf': 16, 'one_hot_max_size': 19, 'subsample': 0.6702107122276515}. Best is trial 25 with value: 0.9619927799491083.\n",
      "[I 2024-01-23 12:13:33,683] Trial 26 finished with value: 0.8650207439056284 and parameters: {'loss_function': 'Logloss', 'learning_rate': 0.8090572850983605, 'l2_leaf_reg': 0.525975684593455, 'colsample_bylevel': 0.03381387911738566, 'depth': 13, 'boosting_type': 'Ordered', 'bootstrap_type': 'MVS', 'min_data_in_leaf': 20, 'one_hot_max_size': 18}. Best is trial 25 with value: 0.9619927799491083.\n",
      "[I 2024-01-23 12:13:33,979] Trial 27 finished with value: 0.936887354159985 and parameters: {'loss_function': 'Logloss', 'learning_rate': 0.8022393349509969, 'l2_leaf_reg': 0.42268732424045585, 'colsample_bylevel': 0.06016821587240328, 'depth': 7, 'boosting_type': 'Plain', 'bootstrap_type': 'Bernoulli', 'min_data_in_leaf': 17, 'one_hot_max_size': 8, 'subsample': 0.47797240477971215}. Best is trial 25 with value: 0.9619927799491083.\n",
      "[I 2024-01-23 12:13:34,316] Trial 28 finished with value: 0.9511054004217031 and parameters: {'loss_function': 'Logloss', 'learning_rate': 0.3895472457453103, 'l2_leaf_reg': 0.5937367034157472, 'colsample_bylevel': 0.09342054542829456, 'depth': 4, 'boosting_type': 'Plain', 'bootstrap_type': 'Bernoulli', 'min_data_in_leaf': 16, 'one_hot_max_size': 16, 'subsample': 0.6543907220057807}. Best is trial 25 with value: 0.9619927799491083.\n",
      "[I 2024-01-23 12:13:35,433] Trial 29 finished with value: 0.9569566072163062 and parameters: {'loss_function': 'CrossEntropy', 'learning_rate': 0.11479891636841971, 'l2_leaf_reg': 0.8694546905673846, 'colsample_bylevel': 0.06955759756325192, 'depth': 15, 'boosting_type': 'Plain', 'bootstrap_type': 'Bernoulli', 'min_data_in_leaf': 18, 'one_hot_max_size': 19, 'subsample': 0.49398437409352003}. Best is trial 25 with value: 0.9619927799491083.\n",
      "[I 2024-01-23 12:13:35,771] Trial 30 finished with value: 0.9505860175989495 and parameters: {'loss_function': 'Logloss', 'learning_rate': 0.22572056107781363, 'l2_leaf_reg': 0.7253218535670074, 'colsample_bylevel': 0.059485439601295924, 'depth': 5, 'boosting_type': 'Plain', 'bootstrap_type': 'MVS', 'min_data_in_leaf': 19, 'one_hot_max_size': 15}. Best is trial 25 with value: 0.9619927799491083.\n",
      "[I 2024-01-23 12:13:35,985] Trial 31 finished with value: 0.9341411346605327 and parameters: {'loss_function': 'Logloss', 'learning_rate': 0.6170331815921288, 'l2_leaf_reg': 0.6282165836640845, 'colsample_bylevel': 0.07630911529942003, 'depth': 11, 'boosting_type': 'Plain', 'bootstrap_type': 'Bernoulli', 'min_data_in_leaf': 15, 'one_hot_max_size': 19, 'subsample': 0.6686847010192127}. Best is trial 25 with value: 0.9619927799491083.\n",
      "[I 2024-01-23 12:13:36,216] Trial 32 finished with value: 0.9392189220416908 and parameters: {'loss_function': 'Logloss', 'learning_rate': 0.4716058348128247, 'l2_leaf_reg': 0.5375284451660101, 'colsample_bylevel': 0.07189987562625676, 'depth': 12, 'boosting_type': 'Plain', 'bootstrap_type': 'Bernoulli', 'min_data_in_leaf': 18, 'one_hot_max_size': 20, 'subsample': 0.8641057614876074}. Best is trial 25 with value: 0.9619927799491083.\n",
      "[I 2024-01-23 12:13:36,549] Trial 33 finished with value: 0.9234238678429901 and parameters: {'loss_function': 'Logloss', 'learning_rate': 0.9807688032554158, 'l2_leaf_reg': 0.7146389652392475, 'colsample_bylevel': 0.08190153857060314, 'depth': 11, 'boosting_type': 'Plain', 'bootstrap_type': 'Bernoulli', 'min_data_in_leaf': 19, 'one_hot_max_size': 18, 'subsample': 0.10241379215026225}. Best is trial 25 with value: 0.9619927799491083.\n",
      "[I 2024-01-23 12:13:36,916] Trial 34 finished with value: 0.9499645460107619 and parameters: {'loss_function': 'Logloss', 'learning_rate': 0.8726578913569442, 'l2_leaf_reg': 0.4914779906147251, 'colsample_bylevel': 0.09127711969717481, 'depth': 13, 'boosting_type': 'Plain', 'bootstrap_type': 'Bernoulli', 'min_data_in_leaf': 13, 'one_hot_max_size': 19, 'subsample': 0.994295435531513}. Best is trial 25 with value: 0.9619927799491083.\n",
      "[I 2024-01-23 12:13:37,172] Trial 35 finished with value: 0.9458019336013824 and parameters: {'loss_function': 'CrossEntropy', 'learning_rate': 0.5495571041954792, 'l2_leaf_reg': 0.37030526595877644, 'colsample_bylevel': 0.044691856024214896, 'depth': 9, 'boosting_type': 'Plain', 'bootstrap_type': 'Bernoulli', 'min_data_in_leaf': 17, 'one_hot_max_size': 16, 'subsample': 0.7100009092537997}. Best is trial 25 with value: 0.9619927799491083.\n",
      "[I 2024-01-23 12:13:39,933] Trial 36 finished with value: 0.9557242790971855 and parameters: {'loss_function': 'Logloss', 'learning_rate': 0.34405346336091075, 'l2_leaf_reg': 0.6602139642534034, 'colsample_bylevel': 0.09698711276757074, 'depth': 13, 'boosting_type': 'Ordered', 'bootstrap_type': 'Bernoulli', 'min_data_in_leaf': 9, 'one_hot_max_size': 2, 'subsample': 0.8718185426774074}. Best is trial 25 with value: 0.9619927799491083.\n",
      "[I 2024-01-23 12:13:40,277] Trial 37 finished with value: 0.9488343066570754 and parameters: {'loss_function': 'CrossEntropy', 'learning_rate': 0.49267383474740356, 'l2_leaf_reg': 0.576737350769121, 'colsample_bylevel': 0.08433036905065408, 'depth': 11, 'boosting_type': 'Plain', 'bootstrap_type': 'Bernoulli', 'min_data_in_leaf': 6, 'one_hot_max_size': 20, 'subsample': 0.6035276473176296}. Best is trial 25 with value: 0.9619927799491083.\n",
      "[I 2024-01-23 12:13:41,101] Trial 38 finished with value: 0.9358069738661218 and parameters: {'loss_function': 'Logloss', 'learning_rate': 0.6623676390322153, 'l2_leaf_reg': 0.2961740184532977, 'colsample_bylevel': 0.07299090440072048, 'depth': 14, 'boosting_type': 'Ordered', 'bootstrap_type': 'Bayesian', 'min_data_in_leaf': 15, 'one_hot_max_size': 17, 'bagging_temperature': 9.357276057296648}. Best is trial 25 with value: 0.9619927799491083.\n",
      "[I 2024-01-23 12:13:41,369] Trial 39 finished with value: 0.9505652102747715 and parameters: {'loss_function': 'Logloss', 'learning_rate': 0.6011574868602128, 'l2_leaf_reg': 0.8579277822580322, 'colsample_bylevel': 0.05397462009176398, 'depth': 7, 'boosting_type': 'Plain', 'bootstrap_type': 'MVS', 'min_data_in_leaf': 10, 'one_hot_max_size': 19}. Best is trial 25 with value: 0.9619927799491083.\n",
      "[I 2024-01-23 12:13:41,933] Trial 40 finished with value: 0.9361555493948964 and parameters: {'loss_function': 'CrossEntropy', 'learning_rate': 0.06133592751967498, 'l2_leaf_reg': 0.7655313622857755, 'colsample_bylevel': 0.030192370060370947, 'depth': 12, 'boosting_type': 'Plain', 'bootstrap_type': 'Bayesian', 'min_data_in_leaf': 20, 'one_hot_max_size': 14, 'bagging_temperature': 0.27244278993253435}. Best is trial 25 with value: 0.9619927799491083.\n",
      "[I 2024-01-23 12:13:42,450] Trial 41 finished with value: 0.9532112888642462 and parameters: {'loss_function': 'Logloss', 'learning_rate': 0.24273328894687113, 'l2_leaf_reg': 0.6766446435755828, 'colsample_bylevel': 0.08965388136933661, 'depth': 12, 'boosting_type': 'Plain', 'bootstrap_type': 'Bernoulli', 'min_data_in_leaf': 7, 'one_hot_max_size': 20, 'subsample': 0.8172102015786046}. Best is trial 25 with value: 0.9619927799491083.\n",
      "[I 2024-01-23 12:13:42,931] Trial 42 finished with value: 0.9511866818629592 and parameters: {'loss_function': 'Logloss', 'learning_rate': 0.2370105503956746, 'l2_leaf_reg': 0.6189510977894981, 'colsample_bylevel': 0.09970310617033691, 'depth': 10, 'boosting_type': 'Plain', 'bootstrap_type': 'Bernoulli', 'min_data_in_leaf': 5, 'one_hot_max_size': 20, 'subsample': 0.693258589329049}. Best is trial 25 with value: 0.9619927799491083.\n",
      "[I 2024-01-23 12:13:43,435] Trial 43 finished with value: 0.9532112888642463 and parameters: {'loss_function': 'Logloss', 'learning_rate': 0.30639276902777646, 'l2_leaf_reg': 0.6762910553399356, 'colsample_bylevel': 0.09177150104701426, 'depth': 14, 'boosting_type': 'Plain', 'bootstrap_type': 'Bernoulli', 'min_data_in_leaf': 2, 'one_hot_max_size': 18, 'subsample': 0.7398385512882769}. Best is trial 25 with value: 0.9619927799491083.\n",
      "[I 2024-01-23 12:13:43,749] Trial 44 finished with value: 0.9569357998921282 and parameters: {'loss_function': 'Logloss', 'learning_rate': 0.4373494321231825, 'l2_leaf_reg': 0.5025544120782038, 'colsample_bylevel': 0.08030521535337429, 'depth': 9, 'boosting_type': 'Plain', 'bootstrap_type': 'Bernoulli', 'min_data_in_leaf': 8, 'one_hot_max_size': 6, 'subsample': 0.9205763143225709}. Best is trial 25 with value: 0.9619927799491083.\n",
      "[I 2024-01-23 12:13:44,268] Trial 45 finished with value: 0.9639675278905723 and parameters: {'loss_function': 'Logloss', 'learning_rate': 0.27454061062800983, 'l2_leaf_reg': 0.6388438238713765, 'colsample_bylevel': 0.08763767263222803, 'depth': 12, 'boosting_type': 'Plain', 'bootstrap_type': 'Bernoulli', 'min_data_in_leaf': 10, 'one_hot_max_size': 19, 'subsample': 0.8143764073909772}. Best is trial 45 with value: 0.9639675278905723.\n",
      "[I 2024-01-23 12:13:44,754] Trial 46 finished with value: 0.9344159785754019 and parameters: {'loss_function': 'Logloss', 'learning_rate': 0.5178014309627843, 'l2_leaf_reg': 0.44263327358717314, 'colsample_bylevel': 0.09396200975083628, 'depth': 2, 'boosting_type': 'Ordered', 'bootstrap_type': 'Bernoulli', 'min_data_in_leaf': 11, 'one_hot_max_size': 19, 'subsample': 0.906785169293221}. Best is trial 45 with value: 0.9639675278905723.\n",
      "[I 2024-01-23 12:13:45,153] Trial 47 finished with value: 0.9353424631885519 and parameters: {'loss_function': 'Logloss', 'learning_rate': 0.3496660982049321, 'l2_leaf_reg': 0.5647869258309268, 'colsample_bylevel': 0.08707084997228068, 'depth': 8, 'boosting_type': 'Plain', 'bootstrap_type': 'Bayesian', 'min_data_in_leaf': 10, 'one_hot_max_size': 17, 'bagging_temperature': 9.572664048204349}. Best is trial 45 with value: 0.9639675278905723.\n",
      "[I 2024-01-23 12:13:45,420] Trial 48 finished with value: 0.9398195863057004 and parameters: {'loss_function': 'CrossEntropy', 'learning_rate': 0.42156893401059503, 'l2_leaf_reg': 0.6229262799232628, 'colsample_bylevel': 0.0672336960385173, 'depth': 11, 'boosting_type': 'Plain', 'bootstrap_type': 'Bernoulli', 'min_data_in_leaf': 9, 'one_hot_max_size': 18, 'subsample': 0.8311631045787937}. Best is trial 45 with value: 0.9639675278905723.\n",
      "[I 2024-01-23 12:13:45,783] Trial 49 finished with value: 0.9335820850448794 and parameters: {'loss_function': 'Logloss', 'learning_rate': 0.19780162489955855, 'l2_leaf_reg': 0.475426926504036, 'colsample_bylevel': 0.07791507287467861, 'depth': 14, 'boosting_type': 'Plain', 'bootstrap_type': 'Bernoulli', 'min_data_in_leaf': 12, 'one_hot_max_size': 16, 'subsample': 0.7213589103383957}. Best is trial 45 with value: 0.9639675278905723.\n",
      "[I 2024-01-23 12:13:46,114] Trial 50 finished with value: 0.9620740613903641 and parameters: {'loss_function': 'Logloss', 'learning_rate': 0.2955938240734402, 'l2_leaf_reg': 0.7621114845271582, 'colsample_bylevel': 0.08629290103425129, 'depth': 8, 'boosting_type': 'Plain', 'bootstrap_type': 'Bernoulli', 'min_data_in_leaf': 19, 'one_hot_max_size': 14, 'subsample': 0.9632501821301245}. Best is trial 45 with value: 0.9639675278905723.\n",
      "[I 2024-01-23 12:13:46,520] Trial 51 finished with value: 0.9543710027439092 and parameters: {'loss_function': 'Logloss', 'learning_rate': 0.28834257713681843, 'l2_leaf_reg': 0.7522168684872884, 'colsample_bylevel': 0.0862928155413407, 'depth': 11, 'boosting_type': 'Plain', 'bootstrap_type': 'Bernoulli', 'min_data_in_leaf': 19, 'one_hot_max_size': 13, 'subsample': 0.9578192089878004}. Best is trial 45 with value: 0.9639675278905723.\n",
      "[I 2024-01-23 12:13:47,295] Trial 52 finished with value: 0.9575364641561377 and parameters: {'loss_function': 'Logloss', 'learning_rate': 0.08916011306937066, 'l2_leaf_reg': 0.8225324078880065, 'colsample_bylevel': 0.09511251666851098, 'depth': 6, 'boosting_type': 'Plain', 'bootstrap_type': 'Bernoulli', 'min_data_in_leaf': 20, 'one_hot_max_size': 11, 'subsample': 0.9450934637859789}. Best is trial 45 with value: 0.9639675278905723.\n",
      "[I 2024-01-23 12:13:47,601] Trial 53 finished with value: 0.9392793961587685 and parameters: {'loss_function': 'Logloss', 'learning_rate': 0.31545994047131765, 'l2_leaf_reg': 0.9445045483185572, 'colsample_bylevel': 0.048778563992786156, 'depth': 10, 'boosting_type': 'Plain', 'bootstrap_type': 'Bernoulli', 'min_data_in_leaf': 19, 'one_hot_max_size': 14, 'subsample': 0.990895834330575}. Best is trial 45 with value: 0.9639675278905723.\n",
      "[I 2024-01-23 12:13:47,872] Trial 54 finished with value: 0.9323497569257585 and parameters: {'loss_function': 'Logloss', 'learning_rate': 0.37831631198293564, 'l2_leaf_reg': 0.7018785372814628, 'colsample_bylevel': 0.0801026826334275, 'depth': 3, 'boosting_type': 'Plain', 'bootstrap_type': 'Bernoulli', 'min_data_in_leaf': 18, 'one_hot_max_size': 19, 'subsample': 0.6003600885720258}. Best is trial 45 with value: 0.9639675278905723.\n",
      "[I 2024-01-23 12:13:48,271] Trial 55 finished with value: 0.9556846123042858 and parameters: {'loss_function': 'Logloss', 'learning_rate': 0.2621588366276305, 'l2_leaf_reg': 0.8102213443298496, 'colsample_bylevel': 0.08572879652210239, 'depth': 9, 'boosting_type': 'Plain', 'bootstrap_type': 'Bernoulli', 'min_data_in_leaf': 12, 'one_hot_max_size': 17, 'subsample': 0.8869326409292051}. Best is trial 45 with value: 0.9639675278905723.\n",
      "[I 2024-01-23 12:13:49,782] Trial 56 finished with value: 0.9404909169537111 and parameters: {'loss_function': 'Logloss', 'learning_rate': 0.19524951813018976, 'l2_leaf_reg': 0.6476866758038876, 'colsample_bylevel': 0.07369415445979782, 'depth': 13, 'boosting_type': 'Ordered', 'bootstrap_type': 'MVS', 'min_data_in_leaf': 17, 'one_hot_max_size': 15}. Best is trial 45 with value: 0.9639675278905723.\n",
      "[I 2024-01-23 12:13:50,266] Trial 57 finished with value: 0.9593278418909117 and parameters: {'loss_function': 'Logloss', 'learning_rate': 0.14166723984797017, 'l2_leaf_reg': 0.5978556438132366, 'colsample_bylevel': 0.08855782845050013, 'depth': 8, 'boosting_type': 'Plain', 'bootstrap_type': 'Bernoulli', 'min_data_in_leaf': 20, 'one_hot_max_size': 12, 'subsample': 0.823348074199198}. Best is trial 45 with value: 0.9639675278905723.\n",
      "[I 2024-01-23 12:13:50,906] Trial 58 finished with value: 0.9398195863057004 and parameters: {'loss_function': 'Logloss', 'learning_rate': 0.129875076447583, 'l2_leaf_reg': 0.5500981829122832, 'colsample_bylevel': 0.0999381706575047, 'depth': 8, 'boosting_type': 'Plain', 'bootstrap_type': 'Bayesian', 'min_data_in_leaf': 20, 'one_hot_max_size': 12, 'bagging_temperature': 4.275738951183429}. Best is trial 45 with value: 0.9639675278905723.\n",
      "[I 2024-01-23 12:13:51,268] Trial 59 finished with value: 0.9387392060118369 and parameters: {'loss_function': 'Logloss', 'learning_rate': 0.15788363459118226, 'l2_leaf_reg': 0.590744175390777, 'colsample_bylevel': 0.027074402489115766, 'depth': 6, 'boosting_type': 'Plain', 'bootstrap_type': 'Bernoulli', 'min_data_in_leaf': 18, 'one_hot_max_size': 9, 'subsample': 0.9260534936216546}. Best is trial 45 with value: 0.9639675278905723.\n",
      "[I 2024-01-23 12:13:51,620] Trial 60 finished with value: 0.9564164170693745 and parameters: {'loss_function': 'Logloss', 'learning_rate': 0.2711068977816102, 'l2_leaf_reg': 0.7524680114843361, 'colsample_bylevel': 0.09657512988109516, 'depth': 5, 'boosting_type': 'Plain', 'bootstrap_type': 'Bernoulli', 'min_data_in_leaf': 16, 'one_hot_max_size': 11, 'subsample': 0.8255581414806087}. Best is trial 45 with value: 0.9639675278905723.\n",
      "[I 2024-01-23 12:13:51,883] Trial 61 finished with value: 0.9589105478335922 and parameters: {'loss_function': 'Logloss', 'learning_rate': 0.7302273645483808, 'l2_leaf_reg': 0.5180169917435636, 'colsample_bylevel': 0.08270639684790439, 'depth': 7, 'boosting_type': 'Plain', 'bootstrap_type': 'Bernoulli', 'min_data_in_leaf': 19, 'one_hot_max_size': 19, 'subsample': 0.7773566946077841}. Best is trial 45 with value: 0.9639675278905723.\n",
      "[I 2024-01-23 12:13:52,363] Trial 62 finished with value: 0.946321316424136 and parameters: {'loss_function': 'Logloss', 'learning_rate': 0.8752826044280745, 'l2_leaf_reg': 0.5203958373818156, 'colsample_bylevel': 0.08870829678423733, 'depth': 7, 'boosting_type': 'Plain', 'bootstrap_type': 'Bernoulli', 'min_data_in_leaf': 19, 'one_hot_max_size': 18, 'subsample': 0.77369164333704}. Best is trial 45 with value: 0.9639675278905723.\n",
      "[I 2024-01-23 12:13:52,640] Trial 63 finished with value: 0.9502083903345299 and parameters: {'loss_function': 'Logloss', 'learning_rate': 0.7428986785358118, 'l2_leaf_reg': 0.4665635990257738, 'colsample_bylevel': 0.08265617884796889, 'depth': 8, 'boosting_type': 'Plain', 'bootstrap_type': 'Bernoulli', 'min_data_in_leaf': 19, 'one_hot_max_size': 12, 'subsample': 0.8193044170478423}. Best is trial 45 with value: 0.9639675278905723.\n",
      "[I 2024-01-23 12:13:52,921] Trial 64 finished with value: 0.9423635761297411 and parameters: {'loss_function': 'Logloss', 'learning_rate': 0.7928386216084116, 'l2_leaf_reg': 0.6025332473487682, 'colsample_bylevel': 0.09340922190174755, 'depth': 5, 'boosting_type': 'Plain', 'bootstrap_type': 'Bernoulli', 'min_data_in_leaf': 20, 'one_hot_max_size': 10, 'subsample': 0.553862225720372}. Best is trial 45 with value: 0.9639675278905723.\n",
      "[I 2024-01-23 12:13:53,232] Trial 65 finished with value: 0.9456998448359483 and parameters: {'loss_function': 'Logloss', 'learning_rate': 0.9197219184173235, 'l2_leaf_reg': 0.42241110829690476, 'colsample_bylevel': 0.08853466869328433, 'depth': 6, 'boosting_type': 'Plain', 'bootstrap_type': 'Bernoulli', 'min_data_in_leaf': 18, 'one_hot_max_size': 13, 'subsample': 0.6406691865826907}. Best is trial 45 with value: 0.9639675278905723.\n",
      "[I 2024-01-23 12:13:53,582] Trial 66 finished with value: 0.949924879217862 and parameters: {'loss_function': 'Logloss', 'learning_rate': 0.8387113544338785, 'l2_leaf_reg': 0.702185843042386, 'colsample_bylevel': 0.09126715710610657, 'depth': 7, 'boosting_type': 'Plain', 'bootstrap_type': 'Bernoulli', 'min_data_in_leaf': 20, 'one_hot_max_size': 19, 'subsample': 0.7497257520799293}. Best is trial 45 with value: 0.9639675278905723.\n",
      "[I 2024-01-23 12:13:53,965] Trial 67 finished with value: 0.9075512920170542 and parameters: {'loss_function': 'CrossEntropy', 'learning_rate': 0.20490135410994348, 'l2_leaf_reg': 0.6483077623199932, 'colsample_bylevel': 0.018248936895308362, 'depth': 2, 'boosting_type': 'Plain', 'bootstrap_type': 'Bernoulli', 'min_data_in_leaf': 17, 'one_hot_max_size': 17, 'subsample': 0.8475801326664614}. Best is trial 45 with value: 0.9639675278905723.\n",
      "[I 2024-01-23 12:13:54,249] Trial 68 finished with value: 0.9532737108367807 and parameters: {'loss_function': 'Logloss', 'learning_rate': 0.3621743796908048, 'l2_leaf_reg': 0.5604963952157997, 'colsample_bylevel': 0.08345051238483543, 'depth': 8, 'boosting_type': 'Plain', 'bootstrap_type': 'MVS', 'min_data_in_leaf': 20, 'one_hot_max_size': 18}. Best is trial 45 with value: 0.9639675278905723.\n",
      "[I 2024-01-23 12:13:54,814] Trial 69 finished with value: 0.9431558550119078 and parameters: {'loss_function': 'Logloss', 'learning_rate': 0.6936280943432168, 'l2_leaf_reg': 0.5086445787709588, 'colsample_bylevel': 0.05705608996658605, 'depth': 9, 'boosting_type': 'Ordered', 'bootstrap_type': 'Bernoulli', 'min_data_in_leaf': 19, 'one_hot_max_size': 15, 'subsample': 0.8016789784785274}. Best is trial 45 with value: 0.9639675278905723.\n",
      "[I 2024-01-23 12:13:55,199] Trial 70 finished with value: 0.9493348300111073 and parameters: {'loss_function': 'Logloss', 'learning_rate': 0.32113901265676537, 'l2_leaf_reg': 0.3865646871464069, 'colsample_bylevel': 0.07814328337659278, 'depth': 10, 'boosting_type': 'Plain', 'bootstrap_type': 'Bernoulli', 'min_data_in_leaf': 15, 'one_hot_max_size': 20, 'subsample': 0.6739900260902021}. Best is trial 45 with value: 0.9639675278905723.\n",
      "[I 2024-01-23 12:13:55,419] Trial 71 finished with value: 0.9470221215981233 and parameters: {'loss_function': 'Logloss', 'learning_rate': 0.7396287908384106, 'l2_leaf_reg': 0.6333767505416569, 'colsample_bylevel': 0.0638424009169015, 'depth': 12, 'boosting_type': 'Plain', 'bootstrap_type': 'Bernoulli', 'min_data_in_leaf': 8, 'one_hot_max_size': 19, 'subsample': 0.7670752677679492}. Best is trial 45 with value: 0.9639675278905723.\n",
      "[I 2024-01-23 12:13:55,665] Trial 72 finished with value: 0.9381385417478274 and parameters: {'loss_function': 'Logloss', 'learning_rate': 0.637518944998078, 'l2_leaf_reg': 0.6051489952776117, 'colsample_bylevel': 0.07536869918203556, 'depth': 13, 'boosting_type': 'Plain', 'bootstrap_type': 'Bernoulli', 'min_data_in_leaf': 18, 'one_hot_max_size': 20, 'subsample': 0.8870226790741992}. Best is trial 45 with value: 0.9639675278905723.\n",
      "[I 2024-01-23 12:13:55,932] Trial 73 finished with value: 0.9500854942449175 and parameters: {'loss_function': 'Logloss', 'learning_rate': 0.7687350281688045, 'l2_leaf_reg': 0.7304774409871507, 'colsample_bylevel': 0.08179573236127584, 'depth': 10, 'boosting_type': 'Plain', 'bootstrap_type': 'Bernoulli', 'min_data_in_leaf': 11, 'one_hot_max_size': 16, 'subsample': 0.7101288721285139}. Best is trial 45 with value: 0.9639675278905723.\n",
      "[I 2024-01-23 12:13:57,951] Trial 74 finished with value: 0.9575364641561377 and parameters: {'loss_function': 'Logloss', 'learning_rate': 0.02399968242350184, 'l2_leaf_reg': 0.6912183621868002, 'colsample_bylevel': 0.0854753342072, 'depth': 11, 'boosting_type': 'Plain', 'bootstrap_type': 'Bernoulli', 'min_data_in_leaf': 10, 'one_hot_max_size': 20, 'subsample': 0.35034692640773074}. Best is trial 45 with value: 0.9639675278905723.\n",
      "[I 2024-01-23 12:13:58,269] Trial 75 finished with value: 0.9443175167470269 and parameters: {'loss_function': 'Logloss', 'learning_rate': 0.5614159731325035, 'l2_leaf_reg': 0.7858644916849832, 'colsample_bylevel': 0.09250175580495526, 'depth': 8, 'boosting_type': 'Plain', 'bootstrap_type': 'Bernoulli', 'min_data_in_leaf': 19, 'one_hot_max_size': 19, 'subsample': 0.7873319034646581}. Best is trial 45 with value: 0.9639675278905723.\n",
      "[I 2024-01-23 12:13:58,683] Trial 76 finished with value: 0.949353689479829 and parameters: {'loss_function': 'Logloss', 'learning_rate': 0.40448236567169593, 'l2_leaf_reg': 0.5849157351873576, 'colsample_bylevel': 0.08810284908789542, 'depth': 12, 'boosting_type': 'Plain', 'bootstrap_type': 'Bernoulli', 'min_data_in_leaf': 14, 'one_hot_max_size': 18, 'subsample': 0.85093040836483}. Best is trial 45 with value: 0.9639675278905723.\n",
      "[I 2024-01-23 12:13:59,053] Trial 77 finished with value: 0.9495075851605427 and parameters: {'loss_function': 'CrossEntropy', 'learning_rate': 0.4644134715179459, 'l2_leaf_reg': 0.5299590172147306, 'colsample_bylevel': 0.09773644134130337, 'depth': 9, 'boosting_type': 'Plain', 'bootstrap_type': 'Bayesian', 'min_data_in_leaf': 17, 'one_hot_max_size': 14, 'bagging_temperature': 2.1750603399154067}. Best is trial 45 with value: 0.9639675278905723.\n",
      "[I 2024-01-23 12:13:59,371] Trial 78 finished with value: 0.9487341657470978 and parameters: {'loss_function': 'Logloss', 'learning_rate': 0.6663341112765628, 'l2_leaf_reg': 0.5466547131070172, 'colsample_bylevel': 0.08001757839273918, 'depth': 7, 'boosting_type': 'Plain', 'bootstrap_type': 'Bernoulli', 'min_data_in_leaf': 16, 'one_hot_max_size': 12, 'subsample': 0.9558091377299971}. Best is trial 45 with value: 0.9639675278905723.\n",
      "[I 2024-01-23 12:14:00,115] Trial 79 finished with value: 0.9412333367760546 and parameters: {'loss_function': 'Logloss', 'learning_rate': 0.5182862344573071, 'l2_leaf_reg': 0.4939512641002854, 'colsample_bylevel': 0.07582148525238482, 'depth': 4, 'boosting_type': 'Ordered', 'bootstrap_type': 'MVS', 'min_data_in_leaf': 13, 'one_hot_max_size': 20}. Best is trial 45 with value: 0.9639675278905723.\n",
      "[I 2024-01-23 12:14:00,584] Trial 80 finished with value: 0.9557242790971857 and parameters: {'loss_function': 'Logloss', 'learning_rate': 0.07686017810878097, 'l2_leaf_reg': 0.16785379752398166, 'colsample_bylevel': 0.0711700284339263, 'depth': 10, 'boosting_type': 'Plain', 'bootstrap_type': 'Bernoulli', 'min_data_in_leaf': 9, 'one_hot_max_size': 19, 'subsample': 0.6351047712617495}. Best is trial 45 with value: 0.9639675278905723.\n",
      "[I 2024-01-23 12:14:01,201] Trial 81 finished with value: 0.9506276322473058 and parameters: {'loss_function': 'Logloss', 'learning_rate': 0.2724364957374783, 'l2_leaf_reg': 0.6731114423834653, 'colsample_bylevel': 0.09175936043515005, 'depth': 12, 'boosting_type': 'Plain', 'bootstrap_type': 'Bernoulli', 'min_data_in_leaf': 7, 'one_hot_max_size': 20, 'subsample': 0.7432208910793433}. Best is trial 45 with value: 0.9639675278905723.\n",
      "[I 2024-01-23 12:14:01,528] Trial 82 finished with value: 0.9429037662766727 and parameters: {'loss_function': 'Logloss', 'learning_rate': 0.21759946424360183, 'l2_leaf_reg': 0.641865356786512, 'colsample_bylevel': 0.08982328575285145, 'depth': 1, 'boosting_type': 'Plain', 'bootstrap_type': 'Bernoulli', 'min_data_in_leaf': 5, 'one_hot_max_size': 17, 'subsample': 0.7907293704387598}. Best is trial 45 with value: 0.9639675278905723.\n",
      "[I 2024-01-23 12:14:02,218] Trial 83 finished with value: 0.9511866818629592 and parameters: {'loss_function': 'Logloss', 'learning_rate': 0.1769429709076199, 'l2_leaf_reg': 0.575451147125643, 'colsample_bylevel': 0.09485918597830753, 'depth': 12, 'boosting_type': 'Plain', 'bootstrap_type': 'Bernoulli', 'min_data_in_leaf': 3, 'one_hot_max_size': 19, 'subsample': 0.6935537859386223}. Best is trial 45 with value: 0.9639675278905723.\n",
      "[I 2024-01-23 12:14:02,732] Trial 84 finished with value: 0.9443383240712051 and parameters: {'loss_function': 'Logloss', 'learning_rate': 0.2500980025773156, 'l2_leaf_reg': 0.07374825083046599, 'colsample_bylevel': 0.08432033273329724, 'depth': 11, 'boosting_type': 'Plain', 'bootstrap_type': 'Bernoulli', 'min_data_in_leaf': 20, 'one_hot_max_size': 18, 'subsample': 0.7606217115310021}. Best is trial 45 with value: 0.9639675278905723.\n",
      "[I 2024-01-23 12:14:03,154] Trial 85 finished with value: 0.9644056292720699 and parameters: {'loss_function': 'Logloss', 'learning_rate': 0.3281676869375102, 'l2_leaf_reg': 0.6559722128764456, 'colsample_bylevel': 0.05078680353532645, 'depth': 11, 'boosting_type': 'Plain', 'bootstrap_type': 'Bernoulli', 'min_data_in_leaf': 10, 'one_hot_max_size': 20, 'subsample': 0.8972167875993886}. Best is trial 85 with value: 0.9644056292720699.\n",
      "[I 2024-01-23 12:14:03,480] Trial 86 finished with value: 0.951878819835148 and parameters: {'loss_function': 'Logloss', 'learning_rate': 0.3508250227395626, 'l2_leaf_reg': 0.4425447461079277, 'colsample_bylevel': 0.04757269708144597, 'depth': 9, 'boosting_type': 'Plain', 'bootstrap_type': 'Bernoulli', 'min_data_in_leaf': 9, 'one_hot_max_size': 20, 'subsample': 0.9017359616860319}. Best is trial 85 with value: 0.9644056292720699.\n",
      "[I 2024-01-23 12:14:03,895] Trial 87 finished with value: 0.9620740613903641 and parameters: {'loss_function': 'Logloss', 'learning_rate': 0.33253870826752047, 'l2_leaf_reg': 0.8410487853021644, 'colsample_bylevel': 0.061361786533469846, 'depth': 14, 'boosting_type': 'Plain', 'bootstrap_type': 'Bernoulli', 'min_data_in_leaf': 10, 'one_hot_max_size': 19, 'subsample': 0.9295414353806059}. Best is trial 85 with value: 0.9644056292720699.\n",
      "[I 2024-01-23 12:14:04,214] Trial 88 finished with value: 0.9690037006233742 and parameters: {'loss_function': 'Logloss', 'learning_rate': 0.29566798847785053, 'l2_leaf_reg': 0.9024854715685453, 'colsample_bylevel': 0.03921899469217449, 'depth': 15, 'boosting_type': 'Plain', 'bootstrap_type': 'Bernoulli', 'min_data_in_leaf': 10, 'one_hot_max_size': 19, 'subsample': 0.9657568109747342}. Best is trial 88 with value: 0.9690037006233742.\n",
      "[I 2024-01-23 12:14:04,465] Trial 89 finished with value: 0.9425053316880749 and parameters: {'loss_function': 'Logloss', 'learning_rate': 0.3281492327761952, 'l2_leaf_reg': 0.9002793786812986, 'colsample_bylevel': 0.0431931855291037, 'depth': 15, 'boosting_type': 'Plain', 'bootstrap_type': 'Bernoulli', 'min_data_in_leaf': 10, 'one_hot_max_size': 18, 'subsample': 0.9694472578167184}. Best is trial 88 with value: 0.9690037006233742.\n",
      "[I 2024-01-23 12:14:04,897] Trial 90 finished with value: 0.9513991038052944 and parameters: {'loss_function': 'CrossEntropy', 'learning_rate': 0.2899875600227367, 'l2_leaf_reg': 0.9872448716674116, 'colsample_bylevel': 0.05182846589039299, 'depth': 15, 'boosting_type': 'Plain', 'bootstrap_type': 'Bayesian', 'min_data_in_leaf': 11, 'one_hot_max_size': 17, 'bagging_temperature': 8.317714076679202}. Best is trial 88 with value: 0.9690037006233742.\n",
      "[I 2024-01-23 12:14:05,198] Trial 91 finished with value: 0.9450285141879377 and parameters: {'loss_function': 'Logloss', 'learning_rate': 0.4011786533077362, 'l2_leaf_reg': 0.840792435154503, 'colsample_bylevel': 0.036495558454611506, 'depth': 14, 'boosting_type': 'Plain', 'bootstrap_type': 'Bernoulli', 'min_data_in_leaf': 10, 'one_hot_max_size': 19, 'subsample': 0.9324544776290704}. Best is trial 88 with value: 0.9690037006233742.\n",
      "[I 2024-01-23 12:14:05,515] Trial 92 finished with value: 0.9564560838622743 and parameters: {'loss_function': 'Logloss', 'learning_rate': 0.2997902588454283, 'l2_leaf_reg': 0.8481203389015374, 'colsample_bylevel': 0.04014171066710411, 'depth': 13, 'boosting_type': 'Plain', 'bootstrap_type': 'Bernoulli', 'min_data_in_leaf': 8, 'one_hot_max_size': 19, 'subsample': 0.9783985464503087}. Best is trial 88 with value: 0.9690037006233742.\n",
      "[I 2024-01-23 12:14:05,881] Trial 93 finished with value: 0.967610757477198 and parameters: {'loss_function': 'Logloss', 'learning_rate': 0.37990030076455056, 'l2_leaf_reg': 0.7469757187068133, 'colsample_bylevel': 0.05803441724177612, 'depth': 14, 'boosting_type': 'Plain', 'bootstrap_type': 'Bernoulli', 'min_data_in_leaf': 12, 'one_hot_max_size': 18, 'subsample': 0.9972026925424315}. Best is trial 88 with value: 0.9690037006233742.\n",
      "[I 2024-01-23 12:14:06,165] Trial 94 finished with value: 0.9508381063341843 and parameters: {'loss_function': 'Logloss', 'learning_rate': 0.372605553368245, 'l2_leaf_reg': 0.9038272745939062, 'colsample_bylevel': 0.05609761569192766, 'depth': 14, 'boosting_type': 'Plain', 'bootstrap_type': 'Bernoulli', 'min_data_in_leaf': 12, 'one_hot_max_size': 16, 'subsample': 0.9922194350930255}. Best is trial 88 with value: 0.9690037006233742.\n",
      "[I 2024-01-23 12:14:06,526] Trial 95 finished with value: 0.9487341657470977 and parameters: {'loss_function': 'Logloss', 'learning_rate': 0.4321973400742161, 'l2_leaf_reg': 0.7757545871293063, 'colsample_bylevel': 0.05982942889307792, 'depth': 15, 'boosting_type': 'Plain', 'bootstrap_type': 'Bernoulli', 'min_data_in_leaf': 11, 'one_hot_max_size': 18, 'subsample': 0.9288199117943008}. Best is trial 88 with value: 0.9690037006233742.\n",
      "[I 2024-01-23 12:14:06,815] Trial 96 finished with value: 0.9438378007171733 and parameters: {'loss_function': 'Logloss', 'learning_rate': 0.3355661460988768, 'l2_leaf_reg': 0.7378873456563969, 'colsample_bylevel': 0.06472631801837796, 'depth': 14, 'boosting_type': 'Plain', 'bootstrap_type': 'Bernoulli', 'min_data_in_leaf': 9, 'one_hot_max_size': 20, 'subsample': 0.8878890883949426}. Best is trial 88 with value: 0.9690037006233742.\n",
      "[I 2024-01-23 12:14:07,215] Trial 97 finished with value: 0.9651582413613365 and parameters: {'loss_function': 'Logloss', 'learning_rate': 0.2680513502664002, 'l2_leaf_reg': 0.8740829552794587, 'colsample_bylevel': 0.062049200594496964, 'depth': 15, 'boosting_type': 'Plain', 'bootstrap_type': 'Bernoulli', 'min_data_in_leaf': 10, 'one_hot_max_size': 18, 'subsample': 0.9565808508189813}. Best is trial 88 with value: 0.9690037006233742.\n",
      "[I 2024-01-23 12:14:08,068] Trial 98 finished with value: 0.9510449263046253 and parameters: {'loss_function': 'Logloss', 'learning_rate': 0.30869989934214587, 'l2_leaf_reg': 0.8264471126545597, 'colsample_bylevel': 0.06210986647040198, 'depth': 15, 'boosting_type': 'Ordered', 'bootstrap_type': 'Bernoulli', 'min_data_in_leaf': 10, 'one_hot_max_size': 18, 'subsample': 0.9990487797829961}. Best is trial 88 with value: 0.9690037006233742.\n",
      "[I 2024-01-23 12:14:08,431] Trial 99 finished with value: 0.9589294073023137 and parameters: {'loss_function': 'Logloss', 'learning_rate': 0.2248632584500622, 'l2_leaf_reg': 0.8885183134152156, 'colsample_bylevel': 0.06710059769006335, 'depth': 15, 'boosting_type': 'Plain', 'bootstrap_type': 'Bernoulli', 'min_data_in_leaf': 11, 'one_hot_max_size': 17, 'subsample': 0.9512532883017693}. Best is trial 88 with value: 0.9690037006233742.\n",
      "[I 2024-01-23 12:14:08,682] Trial 100 finished with value: 0.942444857570997 and parameters: {'loss_function': 'Logloss', 'learning_rate': 0.26522782443869164, 'l2_leaf_reg': 0.9339439450348711, 'colsample_bylevel': 0.057858394121652806, 'depth': 14, 'boosting_type': 'Plain', 'bootstrap_type': 'MVS', 'min_data_in_leaf': 10, 'one_hot_max_size': 18}. Best is trial 88 with value: 0.9690037006233742.\n",
      "[I 2024-01-23 12:14:08,986] Trial 101 finished with value: 0.9558055605384416 and parameters: {'loss_function': 'Logloss', 'learning_rate': 0.35657954105249384, 'l2_leaf_reg': 0.874640048337484, 'colsample_bylevel': 0.052906524105356775, 'depth': 14, 'boosting_type': 'Plain', 'bootstrap_type': 'Bernoulli', 'min_data_in_leaf': 12, 'one_hot_max_size': 7, 'subsample': 0.9060385244497595}. Best is trial 88 with value: 0.9690037006233742.\n",
      "[I 2024-01-23 12:14:09,315] Trial 102 finished with value: 0.9488343066570755 and parameters: {'loss_function': 'Logloss', 'learning_rate': 0.2895202573771501, 'l2_leaf_reg': 0.7532783624367372, 'colsample_bylevel': 0.061000380464884395, 'depth': 15, 'boosting_type': 'Plain', 'bootstrap_type': 'Bernoulli', 'min_data_in_leaf': 9, 'one_hot_max_size': 19, 'subsample': 0.9664271472011728}. Best is trial 88 with value: 0.9690037006233742.\n",
      "[I 2024-01-23 12:14:09,664] Trial 103 finished with value: 0.9381283494809041 and parameters: {'loss_function': 'Logloss', 'learning_rate': 0.38933254054783195, 'l2_leaf_reg': 0.7958952053512389, 'colsample_bylevel': 0.04965560911793197, 'depth': 13, 'boosting_type': 'Plain', 'bootstrap_type': 'Bernoulli', 'min_data_in_leaf': 8, 'one_hot_max_size': 20, 'subsample': 0.8697536184250179}. Best is trial 88 with value: 0.9690037006233742.\n",
      "[I 2024-01-23 12:14:09,914] Trial 104 finished with value: 0.9436771856901176 and parameters: {'loss_function': 'Logloss', 'learning_rate': 0.4153148407494789, 'l2_leaf_reg': 0.9219168794196034, 'colsample_bylevel': 0.05834265918781612, 'depth': 14, 'boosting_type': 'Plain', 'bootstrap_type': 'Bernoulli', 'min_data_in_leaf': 10, 'one_hot_max_size': 17, 'subsample': 0.937416671975453}. Best is trial 88 with value: 0.9690037006233742.\n",
      "[I 2024-01-23 12:14:10,231] Trial 105 finished with value: 0.9414503490134187 and parameters: {'loss_function': 'Logloss', 'learning_rate': 0.3324043723076623, 'l2_leaf_reg': 0.7101844728366187, 'colsample_bylevel': 0.046002672077076374, 'depth': 13, 'boosting_type': 'Plain', 'bootstrap_type': 'Bernoulli', 'min_data_in_leaf': 20, 'one_hot_max_size': 19, 'subsample': 0.9740417029904954}. Best is trial 88 with value: 0.9690037006233742.\n",
      "[I 2024-01-23 12:14:10,613] Trial 106 finished with value: 0.9583098835695827 and parameters: {'loss_function': 'Logloss', 'learning_rate': 0.2490277794783249, 'l2_leaf_reg': 0.9670841708670496, 'colsample_bylevel': 0.054519319664289675, 'depth': 15, 'boosting_type': 'Plain', 'bootstrap_type': 'Bernoulli', 'min_data_in_leaf': 13, 'one_hot_max_size': 15, 'subsample': 0.9112875764944922}. Best is trial 88 with value: 0.9690037006233742.\n",
      "[I 2024-01-23 12:14:10,856] Trial 107 finished with value: 0.9047400081054947 and parameters: {'loss_function': 'Logloss', 'learning_rate': 0.18113239542416543, 'l2_leaf_reg': 0.8100956946160517, 'colsample_bylevel': 0.02450017115655759, 'depth': 13, 'boosting_type': 'Plain', 'bootstrap_type': 'Bernoulli', 'min_data_in_leaf': 9, 'one_hot_max_size': 14, 'subsample': 0.8393913589629416}. Best is trial 88 with value: 0.9690037006233742.\n",
      "[I 2024-01-23 12:14:11,082] Trial 108 finished with value: 0.9383698231588841 and parameters: {'loss_function': 'Logloss', 'learning_rate': 0.9883884312028948, 'l2_leaf_reg': 0.6124874573395898, 'colsample_bylevel': 0.0376411166164436, 'depth': 3, 'boosting_type': 'Plain', 'bootstrap_type': 'Bernoulli', 'min_data_in_leaf': 11, 'one_hot_max_size': 18, 'subsample': 0.9440920223815583}. Best is trial 88 with value: 0.9690037006233742.\n",
      "[I 2024-01-23 12:14:11,512] Trial 109 finished with value: 0.9537911458040776 and parameters: {'loss_function': 'CrossEntropy', 'learning_rate': 0.1285644172294544, 'l2_leaf_reg': 0.6509187012254238, 'colsample_bylevel': 0.051011046615307386, 'depth': 12, 'boosting_type': 'Plain', 'bootstrap_type': 'Bernoulli', 'min_data_in_leaf': 11, 'one_hot_max_size': 20, 'subsample': 0.864551377609146}. Best is trial 88 with value: 0.9690037006233742.\n",
      "[I 2024-01-23 12:14:11,874] Trial 110 finished with value: 0.9405721983949671 and parameters: {'loss_function': 'Logloss', 'learning_rate': 0.2767658797379543, 'l2_leaf_reg': 0.8316192942887581, 'colsample_bylevel': 0.03342502490154817, 'depth': 14, 'boosting_type': 'Plain', 'bootstrap_type': 'Bayesian', 'min_data_in_leaf': 19, 'one_hot_max_size': 13, 'bagging_temperature': 5.754283986085014}. Best is trial 88 with value: 0.9690037006233742.\n",
      "[I 2024-01-23 12:14:12,213] Trial 111 finished with value: 0.955063140716098 and parameters: {'loss_function': 'Logloss', 'learning_rate': 0.23849949822986988, 'l2_leaf_reg': 0.8754109211546217, 'colsample_bylevel': 0.06667646710995445, 'depth': 15, 'boosting_type': 'Plain', 'bootstrap_type': 'Bernoulli', 'min_data_in_leaf': 12, 'one_hot_max_size': 4, 'subsample': 0.9536019570668048}. Best is trial 88 with value: 0.9690037006233742.\n",
      "[I 2024-01-23 12:14:12,831] Trial 112 finished with value: 0.9537911458040779 and parameters: {'loss_function': 'Logloss', 'learning_rate': 0.220159961138938, 'l2_leaf_reg': 0.903880429342803, 'colsample_bylevel': 0.06817634276879092, 'depth': 15, 'boosting_type': 'Plain', 'bootstrap_type': 'Bernoulli', 'min_data_in_leaf': 11, 'one_hot_max_size': 16, 'subsample': 0.924115611189143}. Best is trial 88 with value: 0.9690037006233742.\n",
      "[I 2024-01-23 12:14:13,181] Trial 113 finished with value: 0.9443571835399268 and parameters: {'loss_function': 'Logloss', 'learning_rate': 0.31480508884363456, 'l2_leaf_reg': 0.882259170596059, 'colsample_bylevel': 0.05578555054438321, 'depth': 15, 'boosting_type': 'Plain', 'bootstrap_type': 'Bernoulli', 'min_data_in_leaf': 10, 'one_hot_max_size': 17, 'subsample': 0.8911207767703913}. Best is trial 88 with value: 0.9690037006233742.\n",
      "[I 2024-01-23 12:14:13,449] Trial 114 finished with value: 0.9380074012467482 and parameters: {'loss_function': 'Logloss', 'learning_rate': 0.3742869779034654, 'l2_leaf_reg': 0.8572838729826967, 'colsample_bylevel': 0.0619483131698158, 'depth': 15, 'boosting_type': 'Plain', 'bootstrap_type': 'Bernoulli', 'min_data_in_leaf': 13, 'one_hot_max_size': 10, 'subsample': 0.9718689218492265}. Best is trial 88 with value: 0.9690037006233742.\n",
      "[I 2024-01-23 12:14:13,925] Trial 115 finished with value: 0.9575572714803159 and parameters: {'loss_function': 'Logloss', 'learning_rate': 0.15725453425992175, 'l2_leaf_reg': 0.6843925797210239, 'colsample_bylevel': 0.06507905070016608, 'depth': 13, 'boosting_type': 'Plain', 'bootstrap_type': 'Bernoulli', 'min_data_in_leaf': 11, 'one_hot_max_size': 19, 'subsample': 0.9482381213494426}. Best is trial 88 with value: 0.9690037006233742.\n",
      "[I 2024-01-23 12:14:14,462] Trial 116 finished with value: 0.9492535485698513 and parameters: {'loss_function': 'Logloss', 'learning_rate': 0.20537706764272995, 'l2_leaf_reg': 0.950277290919803, 'colsample_bylevel': 0.05840740837583967, 'depth': 14, 'boosting_type': 'Plain', 'bootstrap_type': 'Bernoulli', 'min_data_in_leaf': 10, 'one_hot_max_size': 17, 'subsample': 0.48013357636787823}. Best is trial 88 with value: 0.9690037006233742.\n",
      "[I 2024-01-23 12:14:16,274] Trial 117 finished with value: 0.9443175167470271 and parameters: {'loss_function': 'Logloss', 'learning_rate': 0.3023643021556813, 'l2_leaf_reg': 0.6686854293485127, 'colsample_bylevel': 0.08727907968576039, 'depth': 11, 'boosting_type': 'Ordered', 'bootstrap_type': 'Bernoulli', 'min_data_in_leaf': 20, 'one_hot_max_size': 19, 'subsample': 0.11197487624110841}. Best is trial 88 with value: 0.9690037006233742.\n",
      "[I 2024-01-23 12:14:17,348] Trial 118 finished with value: 0.9415316304546747 and parameters: {'loss_function': 'Logloss', 'learning_rate': 0.22375882865850683, 'l2_leaf_reg': 0.9236531512245791, 'colsample_bylevel': 0.09787047778558848, 'depth': 14, 'boosting_type': 'Plain', 'bootstrap_type': 'Bernoulli', 'min_data_in_leaf': 9, 'one_hot_max_size': 18, 'subsample': 0.9883757546689366}. Best is trial 88 with value: 0.9690037006233742.\n",
      "[I 2024-01-23 12:14:17,631] Trial 119 finished with value: 0.9563748024210182 and parameters: {'loss_function': 'Logloss', 'learning_rate': 0.3448092109272741, 'l2_leaf_reg': 0.7189590444791252, 'colsample_bylevel': 0.06344730287769879, 'depth': 15, 'boosting_type': 'Plain', 'bootstrap_type': 'Bernoulli', 'min_data_in_leaf': 14, 'one_hot_max_size': 16, 'subsample': 0.952405886162281}. Best is trial 88 with value: 0.9690037006233742.\n",
      "[I 2024-01-23 12:14:18,002] Trial 120 finished with value: 0.9455082302177914 and parameters: {'loss_function': 'Logloss', 'learning_rate': 0.26207536157364275, 'l2_leaf_reg': 0.7630740938997088, 'colsample_bylevel': 0.06957885709648917, 'depth': 12, 'boosting_type': 'Plain', 'bootstrap_type': 'MVS', 'min_data_in_leaf': 20, 'one_hot_max_size': 18}. Best is trial 88 with value: 0.9690037006233742.\n",
      "[I 2024-01-23 12:14:18,281] Trial 121 finished with value: 0.9474205561867212 and parameters: {'loss_function': 'Logloss', 'learning_rate': 0.323365201295405, 'l2_leaf_reg': 0.5846785743048231, 'colsample_bylevel': 0.060569691867567645, 'depth': 8, 'boosting_type': 'Plain', 'bootstrap_type': 'Bernoulli', 'min_data_in_leaf': 19, 'one_hot_max_size': 19, 'subsample': 0.9159734801796324}. Best is trial 88 with value: 0.9690037006233742.\n",
      "[I 2024-01-23 12:14:18,731] Trial 122 finished with value: 0.9493140226869291 and parameters: {'loss_function': 'Logloss', 'learning_rate': 0.2863254125454943, 'l2_leaf_reg': 0.6167675823392048, 'colsample_bylevel': 0.09019863428135687, 'depth': 7, 'boosting_type': 'Plain', 'bootstrap_type': 'Bernoulli', 'min_data_in_leaf': 19, 'one_hot_max_size': 20, 'subsample': 0.799024548250488}. Best is trial 88 with value: 0.9690037006233742.\n",
      "[I 2024-01-23 12:14:19,014] Trial 123 finished with value: 0.9280453889580453 and parameters: {'loss_function': 'Logloss', 'learning_rate': 0.7823145112881572, 'l2_leaf_reg': 0.5161578115533392, 'colsample_bylevel': 0.08536179122582406, 'depth': 9, 'boosting_type': 'Plain', 'bootstrap_type': 'Bernoulli', 'min_data_in_leaf': 18, 'one_hot_max_size': 19, 'subsample': 0.7267265925528663}. Best is trial 88 with value: 0.9690037006233742.\n",
      "[I 2024-01-23 12:14:19,297] Trial 124 finished with value: 0.9451514102775498 and parameters: {'loss_function': 'Logloss', 'learning_rate': 0.8229991380335513, 'l2_leaf_reg': 0.47728025769235527, 'colsample_bylevel': 0.08235815373800252, 'depth': 8, 'boosting_type': 'Plain', 'bootstrap_type': 'Bernoulli', 'min_data_in_leaf': 20, 'one_hot_max_size': 20, 'subsample': 0.8465370362042658}. Best is trial 88 with value: 0.9690037006233742.\n",
      "[I 2024-01-23 12:14:19,881] Trial 125 finished with value: 0.9588292663923362 and parameters: {'loss_function': 'Logloss', 'learning_rate': 0.10216001287763483, 'l2_leaf_reg': 0.5549813908365696, 'colsample_bylevel': 0.08747155699065091, 'depth': 10, 'boosting_type': 'Plain', 'bootstrap_type': 'Bernoulli', 'min_data_in_leaf': 15, 'one_hot_max_size': 17, 'subsample': 0.8213249841021965}. Best is trial 88 with value: 0.9690037006233742.\n",
      "[I 2024-01-23 12:14:20,213] Trial 126 finished with value: 0.9583495503624823 and parameters: {'loss_function': 'Logloss', 'learning_rate': 0.48455256288258275, 'l2_leaf_reg': 0.8932122869464725, 'colsample_bylevel': 0.05297041374592802, 'depth': 8, 'boosting_type': 'Plain', 'bootstrap_type': 'Bernoulli', 'min_data_in_leaf': 18, 'one_hot_max_size': 19, 'subsample': 0.8757253176640908}. Best is trial 88 with value: 0.9690037006233742.\n",
      "[I 2024-01-23 12:14:20,497] Trial 127 finished with value: 0.9525588176849572 and parameters: {'loss_function': 'Logloss', 'learning_rate': 0.4463159559142863, 'l2_leaf_reg': 0.6333179188285949, 'colsample_bylevel': 0.056396904912515144, 'depth': 7, 'boosting_type': 'Plain', 'bootstrap_type': 'Bernoulli', 'min_data_in_leaf': 10, 'one_hot_max_size': 18, 'subsample': 0.9990020325871338}. Best is trial 88 with value: 0.9690037006233742.\n",
      "[I 2024-01-23 12:14:20,764] Trial 128 finished with value: 0.9538516199211556 and parameters: {'loss_function': 'CrossEntropy', 'learning_rate': 0.36978311120210383, 'l2_leaf_reg': 0.789278295696686, 'colsample_bylevel': 0.08107493107508028, 'depth': 4, 'boosting_type': 'Plain', 'bootstrap_type': 'Bernoulli', 'min_data_in_leaf': 19, 'one_hot_max_size': 18, 'subsample': 0.8106516433867132}. Best is trial 88 with value: 0.9690037006233742.\n",
      "[I 2024-01-23 12:14:21,164] Trial 129 finished with value: 0.9461297018059791 and parameters: {'loss_function': 'Logloss', 'learning_rate': 0.2542887665911309, 'l2_leaf_reg': 0.5373661679508608, 'colsample_bylevel': 0.09527242406055168, 'depth': 9, 'boosting_type': 'Plain', 'bootstrap_type': 'Bernoulli', 'min_data_in_leaf': 12, 'one_hot_max_size': 20, 'subsample': 0.9653593027851592}. Best is trial 88 with value: 0.9690037006233742.\n",
      "[I 2024-01-23 12:14:21,468] Trial 130 finished with value: 0.9419859488653213 and parameters: {'loss_function': 'Logloss', 'learning_rate': 0.7210696327906455, 'l2_leaf_reg': 0.8560494323045851, 'colsample_bylevel': 0.06679094250058049, 'depth': 11, 'boosting_type': 'Plain', 'bootstrap_type': 'Bernoulli', 'min_data_in_leaf': 11, 'one_hot_max_size': 11, 'subsample': 0.9035974198754391}. Best is trial 88 with value: 0.9690037006233742.\n",
      "[I 2024-01-23 12:14:22,595] Trial 131 finished with value: 0.9593883160079896 and parameters: {'loss_function': 'Logloss', 'learning_rate': 0.054914696213418414, 'l2_leaf_reg': 0.5603140142480558, 'colsample_bylevel': 0.08844126246989992, 'depth': 10, 'boosting_type': 'Plain', 'bootstrap_type': 'Bernoulli', 'min_data_in_leaf': 14, 'one_hot_max_size': 17, 'subsample': 0.8190215980872755}. Best is trial 88 with value: 0.9690037006233742.\n",
      "[I 2024-01-23 12:14:25,366] Trial 132 finished with value: 0.9543313359510095 and parameters: {'loss_function': 'Logloss', 'learning_rate': 0.010575229510910271, 'l2_leaf_reg': 0.6015545908222124, 'colsample_bylevel': 0.08406698758857543, 'depth': 10, 'boosting_type': 'Plain', 'bootstrap_type': 'Bernoulli', 'min_data_in_leaf': 14, 'one_hot_max_size': 19, 'subsample': 0.6705361731341419}. Best is trial 88 with value: 0.9690037006233742.\n",
      "[I 2024-01-23 12:14:25,715] Trial 133 finished with value: 0.9638862464493162 and parameters: {'loss_function': 'Logloss', 'learning_rate': 0.31513173072721684, 'l2_leaf_reg': 0.4982262699983111, 'colsample_bylevel': 0.0909570152511175, 'depth': 9, 'boosting_type': 'Plain', 'bootstrap_type': 'Bernoulli', 'min_data_in_leaf': 9, 'one_hot_max_size': 16, 'subsample': 0.7675066301797429}. Best is trial 88 with value: 0.9690037006233742.\n",
      "[I 2024-01-23 12:14:26,081] Trial 134 finished with value: 0.9588689331852359 and parameters: {'loss_function': 'Logloss', 'learning_rate': 0.34490873995074867, 'l2_leaf_reg': 0.5718077159799556, 'colsample_bylevel': 0.09218919389081903, 'depth': 10, 'boosting_type': 'Plain', 'bootstrap_type': 'Bernoulli', 'min_data_in_leaf': 9, 'one_hot_max_size': 16, 'subsample': 0.7590746987285352}. Best is trial 88 with value: 0.9690037006233742.\n",
      "[I 2024-01-23 12:14:26,815] Trial 135 finished with value: 0.9506672990402055 and parameters: {'loss_function': 'Logloss', 'learning_rate': 0.04751061114238929, 'l2_leaf_reg': 0.5020083366618103, 'colsample_bylevel': 0.0903454662153031, 'depth': 9, 'boosting_type': 'Plain', 'bootstrap_type': 'Bernoulli', 'min_data_in_leaf': 10, 'one_hot_max_size': 17, 'subsample': 0.9369448654415534}. Best is trial 88 with value: 0.9690037006233742.\n",
      "[I 2024-01-23 12:14:27,524] Trial 136 finished with value: 0.948694498954198 and parameters: {'loss_function': 'Logloss', 'learning_rate': 0.3084048245871948, 'l2_leaf_reg': 0.45783423174571153, 'colsample_bylevel': 0.09386346435089844, 'depth': 11, 'boosting_type': 'Plain', 'bootstrap_type': 'Bernoulli', 'min_data_in_leaf': 11, 'one_hot_max_size': 15, 'subsample': 0.6977765623191288}. Best is trial 88 with value: 0.9690037006233742.\n",
      "[I 2024-01-23 12:14:29,984] Trial 137 finished with value: 0.9496077260705201 and parameters: {'loss_function': 'Logloss', 'learning_rate': 0.13420516625848414, 'l2_leaf_reg': 0.4259922831449026, 'colsample_bylevel': 0.08850668786708185, 'depth': 9, 'boosting_type': 'Ordered', 'bootstrap_type': 'Bayesian', 'min_data_in_leaf': 9, 'one_hot_max_size': 16, 'bagging_temperature': 3.5744002323589634}. Best is trial 88 with value: 0.9690037006233742.\n",
      "[I 2024-01-23 12:14:30,396] Trial 138 finished with value: 0.9562039951270395 and parameters: {'loss_function': 'Logloss', 'learning_rate': 0.2751060187676423, 'l2_leaf_reg': 0.7420570484223359, 'colsample_bylevel': 0.08648879176074982, 'depth': 10, 'boosting_type': 'Plain', 'bootstrap_type': 'Bernoulli', 'min_data_in_leaf': 8, 'one_hot_max_size': 17, 'subsample': 0.9837083995808608}. Best is trial 88 with value: 0.9690037006233742.\n",
      "[I 2024-01-23 12:14:30,702] Trial 139 finished with value: 0.9525191508920573 and parameters: {'loss_function': 'Logloss', 'learning_rate': 0.32712186250453373, 'l2_leaf_reg': 0.5632645719738447, 'colsample_bylevel': 0.05902223852906086, 'depth': 10, 'boosting_type': 'Plain', 'bootstrap_type': 'Bernoulli', 'min_data_in_leaf': 16, 'one_hot_max_size': 14, 'subsample': 0.7303519484817576}. Best is trial 88 with value: 0.9690037006233742.\n",
      "[I 2024-01-23 12:14:30,968] Trial 140 finished with value: 0.9477162074257687 and parameters: {'loss_function': 'Logloss', 'learning_rate': 0.3956108707580372, 'l2_leaf_reg': 0.6601889135296508, 'colsample_bylevel': 0.04001199363384029, 'depth': 12, 'boosting_type': 'Plain', 'bootstrap_type': 'Bernoulli', 'min_data_in_leaf': 10, 'one_hot_max_size': 18, 'subsample': 0.8322411482876871}. Best is trial 88 with value: 0.9690037006233742.\n",
      "[I 2024-01-23 12:14:31,322] Trial 141 finished with value: 0.9651979081542365 and parameters: {'loss_function': 'Logloss', 'learning_rate': 0.297419511278352, 'l2_leaf_reg': 0.5212348686629319, 'colsample_bylevel': 0.06316853615244661, 'depth': 2, 'boosting_type': 'Plain', 'bootstrap_type': 'Bernoulli', 'min_data_in_leaf': 20, 'one_hot_max_size': 18, 'subsample': 0.7824349370515945}. Best is trial 88 with value: 0.9690037006233742.\n",
      "[I 2024-01-23 12:14:31,637] Trial 142 finished with value: 0.9423031020126632 and parameters: {'loss_function': 'Logloss', 'learning_rate': 0.29849747190319176, 'l2_leaf_reg': 0.5965702136660408, 'colsample_bylevel': 0.06272478750096669, 'depth': 1, 'boosting_type': 'Plain', 'bootstrap_type': 'Bernoulli', 'min_data_in_leaf': 20, 'one_hot_max_size': 17, 'subsample': 0.7929636468541463}. Best is trial 88 with value: 0.9690037006233742.\n",
      "[I 2024-01-23 12:14:31,931] Trial 143 finished with value: 0.9369270209528849 and parameters: {'loss_function': 'Logloss', 'learning_rate': 0.23902472856922197, 'l2_leaf_reg': 0.490316084046455, 'colsample_bylevel': 0.06167418707257897, 'depth': 2, 'boosting_type': 'Plain', 'bootstrap_type': 'Bernoulli', 'min_data_in_leaf': 20, 'one_hot_max_size': 18, 'subsample': 0.852683755078129}. Best is trial 88 with value: 0.9690037006233742.\n",
      "[I 2024-01-23 12:14:32,231] Trial 144 finished with value: 0.927372110454578 and parameters: {'loss_function': 'Logloss', 'learning_rate': 0.35058016877970805, 'l2_leaf_reg': 0.5453458505125564, 'colsample_bylevel': 0.05504671681764691, 'depth': 1, 'boosting_type': 'Plain', 'bootstrap_type': 'Bernoulli', 'min_data_in_leaf': 20, 'one_hot_max_size': 17, 'subsample': 0.7753465497779909}. Best is trial 88 with value: 0.9690037006233742.\n",
      "[I 2024-01-23 12:14:32,516] Trial 145 finished with value: 0.9568753257750502 and parameters: {'loss_function': 'Logloss', 'learning_rate': 0.28335940849383584, 'l2_leaf_reg': 0.6939319213602815, 'colsample_bylevel': 0.09686698859825504, 'depth': 2, 'boosting_type': 'Plain', 'bootstrap_type': 'Bernoulli', 'min_data_in_leaf': 13, 'one_hot_max_size': 13, 'subsample': 0.5569005529154285}. Best is trial 88 with value: 0.9690037006233742.\n",
      "[I 2024-01-23 12:14:32,783] Trial 146 finished with value: 0.9519581534209477 and parameters: {'loss_function': 'Logloss', 'learning_rate': 0.952807757830344, 'l2_leaf_reg': 0.5293645176976842, 'colsample_bylevel': 0.06512834337152991, 'depth': 1, 'boosting_type': 'Plain', 'bootstrap_type': 'Bernoulli', 'min_data_in_leaf': 10, 'one_hot_max_size': 18, 'subsample': 0.7456958288511406}. Best is trial 88 with value: 0.9690037006233742.\n",
      "[I 2024-01-23 12:14:33,065] Trial 147 finished with value: 0.9469011733639675 and parameters: {'loss_function': 'Logloss', 'learning_rate': 0.31475266049436407, 'l2_leaf_reg': 0.8115481199476613, 'colsample_bylevel': 0.06016122233548071, 'depth': 15, 'boosting_type': 'Plain', 'bootstrap_type': 'MVS', 'min_data_in_leaf': 15, 'one_hot_max_size': 19}. Best is trial 88 with value: 0.9690037006233742.\n",
      "[I 2024-01-23 12:14:33,501] Trial 148 finished with value: 0.9500269679832961 and parameters: {'loss_function': 'Logloss', 'learning_rate': 0.1791440050659091, 'l2_leaf_reg': 0.6409640964862381, 'colsample_bylevel': 0.09330376596160096, 'depth': 9, 'boosting_type': 'Plain', 'bootstrap_type': 'Bernoulli', 'min_data_in_leaf': 9, 'one_hot_max_size': 16, 'subsample': 0.8117849142288118}. Best is trial 88 with value: 0.9690037006233742.\n",
      "[I 2024-01-23 12:14:33,798] Trial 149 finished with value: 0.9449888473950377 and parameters: {'loss_function': 'Logloss', 'learning_rate': 0.26057220541279896, 'l2_leaf_reg': 0.2644165255431174, 'colsample_bylevel': 0.06362950128197553, 'depth': 11, 'boosting_type': 'Plain', 'bootstrap_type': 'Bernoulli', 'min_data_in_leaf': 11, 'one_hot_max_size': 15, 'subsample': 0.9267115027355544}. Best is trial 88 with value: 0.9690037006233742.\n",
      "[I 2024-01-23 12:14:34,138] Trial 150 finished with value: 0.9620948687145422 and parameters: {'loss_function': 'CrossEntropy', 'learning_rate': 0.3623450964032751, 'l2_leaf_reg': 0.581644312695689, 'colsample_bylevel': 0.09098258423207768, 'depth': 3, 'boosting_type': 'Plain', 'bootstrap_type': 'Bernoulli', 'min_data_in_leaf': 12, 'one_hot_max_size': 18, 'subsample': 0.9598246445680058}. Best is trial 88 with value: 0.9690037006233742.\n",
      "[I 2024-01-23 12:14:34,447] Trial 151 finished with value: 0.9468615065710678 and parameters: {'loss_function': 'CrossEntropy', 'learning_rate': 0.372356395347689, 'l2_leaf_reg': 0.6188285845875579, 'colsample_bylevel': 0.09867054443556322, 'depth': 1, 'boosting_type': 'Plain', 'bootstrap_type': 'Bernoulli', 'min_data_in_leaf': 12, 'one_hot_max_size': 18, 'subsample': 0.9544021309465404}. Best is trial 88 with value: 0.9690037006233742.\n",
      "[I 2024-01-23 12:14:34,782] Trial 152 finished with value: 0.9542500545097535 and parameters: {'loss_function': 'CrossEntropy', 'learning_rate': 0.3336695824475851, 'l2_leaf_reg': 0.5824077037406752, 'colsample_bylevel': 0.09054550635939441, 'depth': 2, 'boosting_type': 'Plain', 'bootstrap_type': 'Bernoulli', 'min_data_in_leaf': 12, 'one_hot_max_size': 17, 'subsample': 0.620101514975855}. Best is trial 88 with value: 0.9690037006233742.\n",
      "[I 2024-01-23 12:14:35,102] Trial 153 finished with value: 0.9575364641561377 and parameters: {'loss_function': 'CrossEntropy', 'learning_rate': 0.3590736889120996, 'l2_leaf_reg': 0.5567947749079986, 'colsample_bylevel': 0.08861356671324712, 'depth': 2, 'boosting_type': 'Plain', 'bootstrap_type': 'Bernoulli', 'min_data_in_leaf': 14, 'one_hot_max_size': 19, 'subsample': 0.9657985933785018}. Best is trial 88 with value: 0.9690037006233742.\n",
      "[I 2024-01-23 12:14:35,777] Trial 154 finished with value: 0.9510657336288034 and parameters: {'loss_function': 'CrossEntropy', 'learning_rate': 0.07260784918531216, 'l2_leaf_reg': 0.4835023883332677, 'colsample_bylevel': 0.08576904383792285, 'depth': 3, 'boosting_type': 'Plain', 'bootstrap_type': 'Bernoulli', 'min_data_in_leaf': 13, 'one_hot_max_size': 18, 'subsample': 0.8937713187900591}. Best is trial 88 with value: 0.9690037006233742.\n",
      "[I 2024-01-23 12:14:36,063] Trial 155 finished with value: 0.9588292663923362 and parameters: {'loss_function': 'CrossEntropy', 'learning_rate': 0.30075909969633025, 'l2_leaf_reg': 0.5194355003034034, 'colsample_bylevel': 0.09147678023618425, 'depth': 3, 'boosting_type': 'Plain', 'bootstrap_type': 'Bernoulli', 'min_data_in_leaf': 10, 'one_hot_max_size': 17, 'subsample': 0.9770219654730122}. Best is trial 88 with value: 0.9690037006233742.\n",
      "[I 2024-01-23 12:14:36,747] Trial 156 finished with value: 0.9451306029533716 and parameters: {'loss_function': 'Logloss', 'learning_rate': 0.38675280213175484, 'l2_leaf_reg': 0.8399738905846444, 'colsample_bylevel': 0.0958563152166289, 'depth': 14, 'boosting_type': 'Plain', 'bootstrap_type': 'Bernoulli', 'min_data_in_leaf': 12, 'one_hot_max_size': 19, 'subsample': 0.9420044989806792}. Best is trial 88 with value: 0.9690037006233742.\n",
      "[I 2024-01-23 12:14:37,523] Trial 157 finished with value: 0.9607207850370877 and parameters: {'loss_function': 'Logloss', 'learning_rate': 0.2791195974924318, 'l2_leaf_reg': 0.9163754158408265, 'colsample_bylevel': 0.058258856462909334, 'depth': 15, 'boosting_type': 'Plain', 'bootstrap_type': 'Bernoulli', 'min_data_in_leaf': 11, 'one_hot_max_size': 20, 'subsample': 0.9175493027498661}. Best is trial 88 with value: 0.9690037006233742.\n",
      "[I 2024-01-23 12:14:37,780] Trial 158 finished with value: 0.9405721983949671 and parameters: {'loss_function': 'Logloss', 'learning_rate': 0.41909899152252406, 'l2_leaf_reg': 0.920584157676639, 'colsample_bylevel': 0.05768583529802151, 'depth': 15, 'boosting_type': 'Plain', 'bootstrap_type': 'Bernoulli', 'min_data_in_leaf': 20, 'one_hot_max_size': 20, 'subsample': 0.9141288959762222}. Best is trial 88 with value: 0.9690037006233742.\n",
      "[I 2024-01-23 12:14:38,063] Trial 159 finished with value: 0.9411312480106204 and parameters: {'loss_function': 'Logloss', 'learning_rate': 0.3229289948482849, 'l2_leaf_reg': 0.96178194916747, 'colsample_bylevel': 0.04766148570750627, 'depth': 11, 'boosting_type': 'Plain', 'bootstrap_type': 'Bernoulli', 'min_data_in_leaf': 19, 'one_hot_max_size': 20, 'subsample': 0.9989423002994953}. Best is trial 88 with value: 0.9690037006233742.\n",
      "[I 2024-01-23 12:14:38,413] Trial 160 finished with value: 0.9290633472793743 and parameters: {'loss_function': 'Logloss', 'learning_rate': 0.28085766520899946, 'l2_leaf_reg': 0.9854617318920378, 'colsample_bylevel': 0.02486477680414846, 'depth': 14, 'boosting_type': 'Plain', 'bootstrap_type': 'Bernoulli', 'min_data_in_leaf': 11, 'one_hot_max_size': 20, 'subsample': 0.8761966298014169}. Best is trial 88 with value: 0.9690037006233742.\n",
      "[I 2024-01-23 12:14:38,897] Trial 161 finished with value: 0.9620740613903641 and parameters: {'loss_function': 'Logloss', 'learning_rate': 0.24843425392948335, 'l2_leaf_reg': 0.8848379647449711, 'colsample_bylevel': 0.06084572595637301, 'depth': 15, 'boosting_type': 'Plain', 'bootstrap_type': 'Bernoulli', 'min_data_in_leaf': 10, 'one_hot_max_size': 18, 'subsample': 0.9338003845898425}. Best is trial 88 with value: 0.9690037006233742.\n",
      "[I 2024-01-23 12:14:39,280] Trial 162 finished with value: 0.9442173758370495 and parameters: {'loss_function': 'Logloss', 'learning_rate': 0.3438784882374547, 'l2_leaf_reg': 0.8765033347303677, 'colsample_bylevel': 0.058902473753673516, 'depth': 15, 'boosting_type': 'Plain', 'bootstrap_type': 'Bernoulli', 'min_data_in_leaf': 10, 'one_hot_max_size': 18, 'subsample': 0.9244463850704371}. Best is trial 88 with value: 0.9690037006233742.\n",
      "[I 2024-01-23 12:14:39,563] Trial 163 finished with value: 0.9309171469866827 and parameters: {'loss_function': 'Logloss', 'learning_rate': 0.2961017272778999, 'l2_leaf_reg': 0.9413904071158702, 'colsample_bylevel': 0.05651519112771572, 'depth': 15, 'boosting_type': 'Plain', 'bootstrap_type': 'Bernoulli', 'min_data_in_leaf': 9, 'one_hot_max_size': 19, 'subsample': 0.9786326629291158}. Best is trial 88 with value: 0.9690037006233742.\n",
      "[I 2024-01-23 12:14:39,912] Trial 164 finished with value: 0.9582682689212264 and parameters: {'loss_function': 'Logloss', 'learning_rate': 0.2686192631710477, 'l2_leaf_reg': 0.9103760804920051, 'colsample_bylevel': 0.060368447325773525, 'depth': 15, 'boosting_type': 'Plain', 'bootstrap_type': 'Bernoulli', 'min_data_in_leaf': 10, 'one_hot_max_size': 12, 'subsample': 0.7784860378016599}. Best is trial 88 with value: 0.9690037006233742.\n",
      "[I 2024-01-23 12:14:40,216] Trial 165 finished with value: 0.9448160922456026 and parameters: {'loss_function': 'Logloss', 'learning_rate': 0.31589231723560884, 'l2_leaf_reg': 0.6240737764168035, 'colsample_bylevel': 0.0540989758316082, 'depth': 14, 'boosting_type': 'Plain', 'bootstrap_type': 'Bernoulli', 'min_data_in_leaf': 10, 'one_hot_max_size': 19, 'subsample': 0.937878746324449}. Best is trial 88 with value: 0.9690037006233742.\n",
      "[I 2024-01-23 12:14:40,803] Trial 166 finished with value: 0.7420753388211518 and parameters: {'loss_function': 'Logloss', 'learning_rate': 0.25286562563520454, 'l2_leaf_reg': 0.5865763678216396, 'colsample_bylevel': 0.012754537746215495, 'depth': 9, 'boosting_type': 'Ordered', 'bootstrap_type': 'Bernoulli', 'min_data_in_leaf': 11, 'one_hot_max_size': 18, 'subsample': 0.7078120617855661}. Best is trial 88 with value: 0.9690037006233742.\n",
      "[I 2024-01-23 12:14:41,321] Trial 167 finished with value: 0.9461693685988788 and parameters: {'loss_function': 'CrossEntropy', 'learning_rate': 0.36144325066732347, 'l2_leaf_reg': 0.8677220223989732, 'colsample_bylevel': 0.09323488310255443, 'depth': 8, 'boosting_type': 'Plain', 'bootstrap_type': 'Bayesian', 'min_data_in_leaf': 9, 'one_hot_max_size': 20, 'bagging_temperature': 8.202040747049828}. Best is trial 88 with value: 0.9690037006233742.\n",
      "[I 2024-01-23 12:14:41,676] Trial 168 finished with value: 0.9347021321316423 and parameters: {'loss_function': 'Logloss', 'learning_rate': 0.23280106139073686, 'l2_leaf_reg': 0.6619195516068054, 'colsample_bylevel': 0.03005012553056778, 'depth': 13, 'boosting_type': 'Plain', 'bootstrap_type': 'Bernoulli', 'min_data_in_leaf': 20, 'one_hot_max_size': 19, 'subsample': 0.8616922011123527}. Best is trial 88 with value: 0.9690037006233742.\n",
      "[I 2024-01-23 12:14:42,212] Trial 169 finished with value: 0.951878819835148 and parameters: {'loss_function': 'Logloss', 'learning_rate': 0.2890931751072747, 'l2_leaf_reg': 0.5982975865353138, 'colsample_bylevel': 0.08953644231535174, 'depth': 15, 'boosting_type': 'Plain', 'bootstrap_type': 'Bernoulli', 'min_data_in_leaf': 11, 'one_hot_max_size': 19, 'subsample': 0.8331662301832579}. Best is trial 88 with value: 0.9690037006233742.\n",
      "[I 2024-01-23 12:14:42,563] Trial 170 finished with value: 0.9493744968040071 and parameters: {'loss_function': 'Logloss', 'learning_rate': 0.20423659498528635, 'l2_leaf_reg': 0.5690164693467824, 'colsample_bylevel': 0.06291889554568476, 'depth': 14, 'boosting_type': 'Plain', 'bootstrap_type': 'Bernoulli', 'min_data_in_leaf': 19, 'one_hot_max_size': 18, 'subsample': 0.9003832817362516}. Best is trial 88 with value: 0.9690037006233742.\n",
      "[I 2024-01-23 12:14:43,946] Trial 171 finished with value: 0.9543313359510095 and parameters: {'loss_function': 'Logloss', 'learning_rate': 0.03539994139457929, 'l2_leaf_reg': 0.8902605515639607, 'colsample_bylevel': 0.061229753911417766, 'depth': 15, 'boosting_type': 'Plain', 'bootstrap_type': 'Bernoulli', 'min_data_in_leaf': 12, 'one_hot_max_size': 17, 'subsample': 0.9581811379811175}. Best is trial 88 with value: 0.9690037006233742.\n",
      "[I 2024-01-23 12:14:45,268] Trial 172 finished with value: 0.9570775554504619 and parameters: {'loss_function': 'Logloss', 'learning_rate': 0.2290208962789364, 'l2_leaf_reg': 0.8506422938458118, 'colsample_bylevel': 0.06691676098473133, 'depth': 15, 'boosting_type': 'Plain', 'bootstrap_type': 'Bernoulli', 'min_data_in_leaf': 11, 'one_hot_max_size': 17, 'subsample': 0.9521789066367924}. Best is trial 88 with value: 0.9690037006233742.\n",
      "[I 2024-01-23 12:14:45,776] Trial 173 finished with value: 0.9441965685128713 and parameters: {'loss_function': 'Logloss', 'learning_rate': 0.2632800964075201, 'l2_leaf_reg': 0.8920167647888576, 'colsample_bylevel': 0.06529316597748935, 'depth': 15, 'boosting_type': 'Plain', 'bootstrap_type': 'Bernoulli', 'min_data_in_leaf': 10, 'one_hot_max_size': 18, 'subsample': 0.9256524377164898}. Best is trial 88 with value: 0.9690037006233742.\n",
      "[I 2024-01-23 12:14:46,138] Trial 174 finished with value: 0.9538932345695118 and parameters: {'loss_function': 'Logloss', 'learning_rate': 0.33461056248230736, 'l2_leaf_reg': 0.8249670527562458, 'colsample_bylevel': 0.05922186483688987, 'depth': 12, 'boosting_type': 'Plain', 'bootstrap_type': 'Bernoulli', 'min_data_in_leaf': 11, 'one_hot_max_size': 20, 'subsample': 0.967536335564885}. Best is trial 88 with value: 0.9690037006233742.\n",
      "[I 2024-01-23 12:14:46,664] Trial 175 finished with value: 0.9556846123042858 and parameters: {'loss_function': 'Logloss', 'learning_rate': 0.3081024990469096, 'l2_leaf_reg': 0.5427017784564032, 'colsample_bylevel': 0.06386797268260827, 'depth': 14, 'boosting_type': 'Plain', 'bootstrap_type': 'Bernoulli', 'min_data_in_leaf': 10, 'one_hot_max_size': 19, 'subsample': 0.9401704524323015}. Best is trial 88 with value: 0.9690037006233742.\n",
      "[I 2024-01-23 12:14:47,147] Trial 176 finished with value: 0.958808459068158 and parameters: {'loss_function': 'Logloss', 'learning_rate': 0.28156513988521165, 'l2_leaf_reg': 0.906962783153055, 'colsample_bylevel': 0.056317590998588435, 'depth': 6, 'boosting_type': 'Plain', 'bootstrap_type': 'Bernoulli', 'min_data_in_leaf': 20, 'one_hot_max_size': 18, 'subsample': 0.9120477033996957}. Best is trial 88 with value: 0.9690037006233742.\n",
      "[I 2024-01-23 12:14:48,015] Trial 177 finished with value: 0.9441360943957934 and parameters: {'loss_function': 'Logloss', 'learning_rate': 0.24694853460295524, 'l2_leaf_reg': 0.93730836247316, 'colsample_bylevel': 0.08743672304399332, 'depth': 15, 'boosting_type': 'Plain', 'bootstrap_type': 'MVS', 'min_data_in_leaf': 10, 'one_hot_max_size': 16}. Best is trial 88 with value: 0.9690037006233742.\n",
      "[I 2024-01-23 12:14:48,444] Trial 178 finished with value: 0.9519789607451257 and parameters: {'loss_function': 'Logloss', 'learning_rate': 0.3287701085626566, 'l2_leaf_reg': 0.6075050538228598, 'colsample_bylevel': 0.06159526907243734, 'depth': 1, 'boosting_type': 'Plain', 'bootstrap_type': 'Bernoulli', 'min_data_in_leaf': 17, 'one_hot_max_size': 17, 'subsample': 0.9822965254517955}. Best is trial 88 with value: 0.9690037006233742.\n",
      "[I 2024-01-23 12:14:48,933] Trial 179 finished with value: 0.947981553657831 and parameters: {'loss_function': 'Logloss', 'learning_rate': 0.21537279600481246, 'l2_leaf_reg': 0.5006533811645136, 'colsample_bylevel': 0.051864967135605754, 'depth': 14, 'boosting_type': 'Plain', 'bootstrap_type': 'Bernoulli', 'min_data_in_leaf': 8, 'one_hot_max_size': 20, 'subsample': 0.8038044398475857}. Best is trial 88 with value: 0.9690037006233742.\n",
      "[I 2024-01-23 12:14:49,546] Trial 180 finished with value: 0.9551652294815322 and parameters: {'loss_function': 'Logloss', 'learning_rate': 0.143147458496426, 'l2_leaf_reg': 0.6315737180126193, 'colsample_bylevel': 0.08401683164152765, 'depth': 2, 'boosting_type': 'Plain', 'bootstrap_type': 'Bernoulli', 'min_data_in_leaf': 9, 'one_hot_max_size': 18, 'subsample': 0.8868821459175282}. Best is trial 88 with value: 0.9690037006233742.\n",
      "[I 2024-01-23 12:14:50,058] Trial 181 finished with value: 0.9589294073023137 and parameters: {'loss_function': 'Logloss', 'learning_rate': 0.3056762789715323, 'l2_leaf_reg': 0.5121159548407107, 'colsample_bylevel': 0.08713696527266163, 'depth': 7, 'boosting_type': 'Plain', 'bootstrap_type': 'Bernoulli', 'min_data_in_leaf': 19, 'one_hot_max_size': 19, 'subsample': 0.7639245162131542}. Best is trial 88 with value: 0.9690037006233742.\n",
      "[I 2024-01-23 12:14:50,579] Trial 182 finished with value: 0.9561227136857834 and parameters: {'loss_function': 'Logloss', 'learning_rate': 0.3072806479533311, 'l2_leaf_reg': 0.5149389027670399, 'colsample_bylevel': 0.08687458471076433, 'depth': 8, 'boosting_type': 'Plain', 'bootstrap_type': 'Bernoulli', 'min_data_in_leaf': 19, 'one_hot_max_size': 19, 'subsample': 0.77253501673299}. Best is trial 88 with value: 0.9690037006233742.\n",
      "[I 2024-01-23 12:14:51,146] Trial 183 finished with value: 0.9638654391251381 and parameters: {'loss_function': 'Logloss', 'learning_rate': 0.2785137686580088, 'l2_leaf_reg': 0.46191671452027255, 'colsample_bylevel': 0.08862627486925863, 'depth': 9, 'boosting_type': 'Plain', 'bootstrap_type': 'Bernoulli', 'min_data_in_leaf': 20, 'one_hot_max_size': 19, 'subsample': 0.4257189248750768}. Best is trial 88 with value: 0.9690037006233742.\n",
      "[I 2024-01-23 12:14:51,547] Trial 184 finished with value: 0.9382009637203615 and parameters: {'loss_function': 'Logloss', 'learning_rate': 0.27299637204165517, 'l2_leaf_reg': 0.45873279959053204, 'colsample_bylevel': 0.08923247700129702, 'depth': 9, 'boosting_type': 'Plain', 'bootstrap_type': 'Bernoulli', 'min_data_in_leaf': 20, 'one_hot_max_size': 20, 'subsample': 0.3426886686736866}. Best is trial 88 with value: 0.9690037006233742.\n",
      "[I 2024-01-23 12:14:52,142] Trial 185 finished with value: 0.9385785909847814 and parameters: {'loss_function': 'Logloss', 'learning_rate': 0.10549026773410299, 'l2_leaf_reg': 0.43184096872513955, 'colsample_bylevel': 0.09166227683175956, 'depth': 10, 'boosting_type': 'Plain', 'bootstrap_type': 'Bernoulli', 'min_data_in_leaf': 20, 'one_hot_max_size': 18, 'subsample': 0.44715960370719104}. Best is trial 88 with value: 0.9690037006233742.\n",
      "[I 2024-01-23 12:14:52,513] Trial 186 finished with value: 0.9413852846013118 and parameters: {'loss_function': 'Logloss', 'learning_rate': 0.3524964353718661, 'l2_leaf_reg': 0.481942396138364, 'colsample_bylevel': 0.09432740327249375, 'depth': 11, 'boosting_type': 'Plain', 'bootstrap_type': 'Bernoulli', 'min_data_in_leaf': 20, 'one_hot_max_size': 20, 'subsample': 0.1889254624121824}. Best is trial 88 with value: 0.9690037006233742.\n",
      "[I 2024-01-23 12:14:52,896] Trial 187 finished with value: 0.9452307438633493 and parameters: {'loss_function': 'Logloss', 'learning_rate': 0.28820864332673846, 'l2_leaf_reg': 0.4122623028173353, 'colsample_bylevel': 0.058143652941165115, 'depth': 10, 'boosting_type': 'Plain', 'bootstrap_type': 'Bernoulli', 'min_data_in_leaf': 11, 'one_hot_max_size': 19, 'subsample': 0.37197435575300725}. Best is trial 88 with value: 0.9690037006233742.\n",
      "[I 2024-01-23 12:14:53,343] Trial 188 finished with value: 0.9569754666850279 and parameters: {'loss_function': 'CrossEntropy', 'learning_rate': 0.19340013240628467, 'l2_leaf_reg': 0.8653896476520807, 'colsample_bylevel': 0.04225625117419582, 'depth': 15, 'boosting_type': 'Plain', 'bootstrap_type': 'Bernoulli', 'min_data_in_leaf': 10, 'one_hot_max_size': 18, 'subsample': 0.5139140879289187}. Best is trial 88 with value: 0.9690037006233742.\n",
      "[I 2024-01-23 12:14:54,430] Trial 189 finished with value: 0.9506068249231276 and parameters: {'loss_function': 'Logloss', 'learning_rate': 0.2483123863502854, 'l2_leaf_reg': 0.9229913195619768, 'colsample_bylevel': 0.08441761627573938, 'depth': 5, 'boosting_type': 'Ordered', 'bootstrap_type': 'Bernoulli', 'min_data_in_leaf': 12, 'one_hot_max_size': 17, 'subsample': 0.6556966862672549}. Best is trial 88 with value: 0.9690037006233742.\n",
      "[I 2024-01-23 12:14:54,899] Trial 190 finished with value: 0.9531904815400681 and parameters: {'loss_function': 'Logloss', 'learning_rate': 0.3270288367850821, 'l2_leaf_reg': 0.6884044759758498, 'colsample_bylevel': 0.0899305119387043, 'depth': 9, 'boosting_type': 'Plain', 'bootstrap_type': 'Bernoulli', 'min_data_in_leaf': 16, 'one_hot_max_size': 9, 'subsample': 0.9593833919635638}. Best is trial 88 with value: 0.9690037006233742.\n",
      "[I 2024-01-23 12:14:55,423] Trial 191 finished with value: 0.9494746377139848 and parameters: {'loss_function': 'Logloss', 'learning_rate': 0.30475772173476, 'l2_leaf_reg': 0.46350126549718074, 'colsample_bylevel': 0.08641258620641074, 'depth': 8, 'boosting_type': 'Plain', 'bootstrap_type': 'Bernoulli', 'min_data_in_leaf': 19, 'one_hot_max_size': 19, 'subsample': 0.7541671346950582}. Best is trial 88 with value: 0.9690037006233742.\n",
      "[I 2024-01-23 12:14:55,964] Trial 192 finished with value: 0.953119815156067 and parameters: {'loss_function': 'Logloss', 'learning_rate': 0.27022267523960475, 'l2_leaf_reg': 0.4996392180546352, 'colsample_bylevel': 0.08866857361694386, 'depth': 9, 'boosting_type': 'Plain', 'bootstrap_type': 'Bernoulli', 'min_data_in_leaf': 20, 'one_hot_max_size': 19, 'subsample': 0.7864681432255506}. Best is trial 88 with value: 0.9690037006233742.\n",
      "[I 2024-01-23 12:14:56,465] Trial 193 finished with value: 0.9587876517439801 and parameters: {'loss_function': 'Logloss', 'learning_rate': 0.29510992596928415, 'l2_leaf_reg': 0.5564508628357604, 'colsample_bylevel': 0.09178072819080298, 'depth': 8, 'boosting_type': 'Plain', 'bootstrap_type': 'Bernoulli', 'min_data_in_leaf': 18, 'one_hot_max_size': 19, 'subsample': 0.8175053660294794}. Best is trial 88 with value: 0.9690037006233742.\n",
      "[I 2024-01-23 12:14:56,879] Trial 194 finished with value: 0.9557658937455419 and parameters: {'loss_function': 'Logloss', 'learning_rate': 0.3428895376760443, 'l2_leaf_reg': 0.5303012186782078, 'colsample_bylevel': 0.08773656207702885, 'depth': 7, 'boosting_type': 'Plain', 'bootstrap_type': 'Bernoulli', 'min_data_in_leaf': 19, 'one_hot_max_size': 20, 'subsample': 0.6836640525780685}. Best is trial 88 with value: 0.9690037006233742.\n",
      "[I 2024-01-23 12:14:57,296] Trial 195 finished with value: 0.9620135872732862 and parameters: {'loss_function': 'Logloss', 'learning_rate': 0.23207929374610878, 'l2_leaf_reg': 0.6450571291832883, 'colsample_bylevel': 0.08531506938299971, 'depth': 4, 'boosting_type': 'Plain', 'bootstrap_type': 'Bernoulli', 'min_data_in_leaf': 20, 'one_hot_max_size': 18, 'subsample': 0.7319637312477616}. Best is trial 88 with value: 0.9690037006233742.\n",
      "[I 2024-01-23 12:14:57,663] Trial 196 finished with value: 0.9487946398641757 and parameters: {'loss_function': 'Logloss', 'learning_rate': 0.24622804184382388, 'l2_leaf_reg': 0.6626671734694837, 'colsample_bylevel': 0.08286015717423659, 'depth': 3, 'boosting_type': 'Plain', 'bootstrap_type': 'Bernoulli', 'min_data_in_leaf': 20, 'one_hot_max_size': 13, 'subsample': 0.7117615641011362}. Best is trial 88 with value: 0.9690037006233742.\n",
      "[I 2024-01-23 12:14:58,189] Trial 197 finished with value: 0.9583287430383042 and parameters: {'loss_function': 'Logloss', 'learning_rate': 0.22403933993162842, 'l2_leaf_reg': 0.7229878457927419, 'colsample_bylevel': 0.05972495548979073, 'depth': 4, 'boosting_type': 'Plain', 'bootstrap_type': 'Bernoulli', 'min_data_in_leaf': 20, 'one_hot_max_size': 18, 'subsample': 0.7369457290578203}. Best is trial 88 with value: 0.9690037006233742.\n",
      "[I 2024-01-23 12:14:58,612] Trial 198 finished with value: 0.9480023609820091 and parameters: {'loss_function': 'Logloss', 'learning_rate': 0.38034481931630043, 'l2_leaf_reg': 0.6291565778803954, 'colsample_bylevel': 0.07882926248252049, 'depth': 15, 'boosting_type': 'Plain', 'bootstrap_type': 'Bernoulli', 'min_data_in_leaf': 20, 'one_hot_max_size': 15, 'subsample': 0.9406051818307678}. Best is trial 88 with value: 0.9690037006233742.\n",
      "[I 2024-01-23 12:14:59,212] Trial 199 finished with value: 0.9562039951270395 and parameters: {'loss_function': 'Logloss', 'learning_rate': 0.15929143715348237, 'l2_leaf_reg': 0.6466507404057609, 'colsample_bylevel': 0.07349114169070897, 'depth': 3, 'boosting_type': 'Plain', 'bootstrap_type': 'Bernoulli', 'min_data_in_leaf': 14, 'one_hot_max_size': 17, 'subsample': 0.7235619177623254}. Best is trial 88 with value: 0.9690037006233742.\n"
     ]
    }
   ],
   "source": [
    "study = optuna.create_study(sampler=TPESampler(), direction=\"maximize\")\n",
    "study.optimize(\n",
    "    objective, n_trials=cnf['optuna_n_trials'], timeout=cnf['optuna_timeout']\n",
    "    ) # timeout in seconds"
   ]
  },
  {
   "cell_type": "code",
   "execution_count": 6,
   "id": "a791140f",
   "metadata": {},
   "outputs": [
    {
     "name": "stdout",
     "output_type": "stream",
     "text": [
      "Number of completed trials: 200\n",
      "Best trial:\n",
      "\tBest Score: 0.9690037006233742\n",
      "\tBest Params: \n",
      "    loss_function: Logloss\n",
      "    learning_rate: 0.29566798847785053\n",
      "    l2_leaf_reg: 0.9024854715685453\n",
      "    colsample_bylevel: 0.03921899469217449\n",
      "    depth: 15\n",
      "    boosting_type: Plain\n",
      "    bootstrap_type: Bernoulli\n",
      "    min_data_in_leaf: 10\n",
      "    one_hot_max_size: 19\n",
      "    subsample: 0.9657568109747342\n"
     ]
    },
    {
     "data": {
      "text/plain": [
       "['C:\\\\CREDEM\\\\MLOps\\\\mlflow\\\\output\\\\models\\\\optuna_study_cls.pkl']"
      ]
     },
     "execution_count": 6,
     "metadata": {},
     "output_type": "execute_result"
    }
   ],
   "source": [
    "print(f\"Number of completed trials: {len(study.trials)}\")\n",
    "print(\"Best trial:\")\n",
    "best_trial = study.best_trial\n",
    "\n",
    "print(f\"\\tBest Score: {best_trial.value}\")\n",
    "print(\"\\tBest Params: \")\n",
    "for key, value in best_trial.params.items():\n",
    "    print(f\"    {key}: {value}\")\n",
    "\n",
    "joblib.dump(study, os.path.join(MODELS_DIR, \"optuna_study_cls.pkl\"))\n",
    "# study = joblib.load(os.path.join(MODELS_DIR, \"optuna_study_cls.pkl\"))"
   ]
  },
  {
   "cell_type": "markdown",
   "id": "f759134f",
   "metadata": {},
   "source": [
    "### Load study"
   ]
  },
  {
   "cell_type": "code",
   "execution_count": 12,
   "id": "d6cd95e3",
   "metadata": {},
   "outputs": [],
   "source": [
    "study = joblib.load(os.path.join(MODELS_DIR, \"optuna_study_cls.pkl\"))\n",
    "best_trial = study.best_trial"
   ]
  },
  {
   "cell_type": "markdown",
   "id": "295f7844",
   "metadata": {},
   "source": [
    "### HO visualizations"
   ]
  },
  {
   "cell_type": "code",
   "execution_count": 17,
   "id": "134aa69a",
   "metadata": {},
   "outputs": [],
   "source": [
    "def optuna_visualization_plots(study, save=True, save_dir=FIGURES_DIR):\n",
    "    \"\"\"_summary_\n",
    "\n",
    "    Args:\n",
    "        study (_type_): _description_\n",
    "        save (bool, optional): _description_. Defaults to True.\n",
    "        save_dir (_type_, optional): _description_. Defaults to FIGURES_DIR.\n",
    "    \"\"\"\n",
    "    fig = optuna.visualization.plot_param_importances(study)\n",
    "    fig.savefig(os.path.join(save_dir, 'optuna_param_importances.png'))\n",
    "    plt.show(fig)\n",
    "\n",
    "    fig1 = optuna.visualization.plot_optimization_history(study)\n",
    "    fig1.savefig(os.path.join(save_dir, 'optuna_optimization_history.png'))\n",
    "    plt.show(fig1)"
   ]
  },
  {
   "cell_type": "code",
   "execution_count": 7,
   "id": "c6ebaf3a",
   "metadata": {},
   "outputs": [
    {
     "data": {
      "application/vnd.plotly.v1+json": {
       "config": {
        "plotlyServerURL": "https://plot.ly"
       },
       "data": [
        {
         "cliponaxis": false,
         "hovertemplate": [
          "min_data_in_leaf (IntDistribution): 0.0022106340797822814<extra></extra>",
          "loss_function (CategoricalDistribution): 0.003201548693383249<extra></extra>",
          "depth (IntDistribution): 0.0037133684527366263<extra></extra>",
          "l2_leaf_reg (FloatDistribution): 0.00761887270909623<extra></extra>",
          "one_hot_max_size (IntDistribution): 0.008437560877521297<extra></extra>",
          "bootstrap_type (CategoricalDistribution): 0.010518802886011133<extra></extra>",
          "boosting_type (CategoricalDistribution): 0.014188652981473008<extra></extra>",
          "learning_rate (FloatDistribution): 0.047228374105122206<extra></extra>",
          "colsample_bylevel (FloatDistribution): 0.9028821852148737<extra></extra>"
         ],
         "name": "Objective Value",
         "orientation": "h",
         "text": [
          "<0.01",
          "<0.01",
          "<0.01",
          "<0.01",
          "<0.01",
          "0.01",
          "0.01",
          "0.05",
          "0.90"
         ],
         "textposition": "outside",
         "type": "bar",
         "x": [
          0.0022106340797822814,
          0.003201548693383249,
          0.0037133684527366263,
          0.00761887270909623,
          0.008437560877521297,
          0.010518802886011133,
          0.014188652981473008,
          0.047228374105122206,
          0.9028821852148737
         ],
         "y": [
          "min_data_in_leaf",
          "loss_function",
          "depth",
          "l2_leaf_reg",
          "one_hot_max_size",
          "bootstrap_type",
          "boosting_type",
          "learning_rate",
          "colsample_bylevel"
         ]
        }
       ],
       "layout": {
        "template": {
         "data": {
          "bar": [
           {
            "error_x": {
             "color": "#2a3f5f"
            },
            "error_y": {
             "color": "#2a3f5f"
            },
            "marker": {
             "line": {
              "color": "#E5ECF6",
              "width": 0.5
             },
             "pattern": {
              "fillmode": "overlay",
              "size": 10,
              "solidity": 0.2
             }
            },
            "type": "bar"
           }
          ],
          "barpolar": [
           {
            "marker": {
             "line": {
              "color": "#E5ECF6",
              "width": 0.5
             },
             "pattern": {
              "fillmode": "overlay",
              "size": 10,
              "solidity": 0.2
             }
            },
            "type": "barpolar"
           }
          ],
          "carpet": [
           {
            "aaxis": {
             "endlinecolor": "#2a3f5f",
             "gridcolor": "white",
             "linecolor": "white",
             "minorgridcolor": "white",
             "startlinecolor": "#2a3f5f"
            },
            "baxis": {
             "endlinecolor": "#2a3f5f",
             "gridcolor": "white",
             "linecolor": "white",
             "minorgridcolor": "white",
             "startlinecolor": "#2a3f5f"
            },
            "type": "carpet"
           }
          ],
          "choropleth": [
           {
            "colorbar": {
             "outlinewidth": 0,
             "ticks": ""
            },
            "type": "choropleth"
           }
          ],
          "contour": [
           {
            "colorbar": {
             "outlinewidth": 0,
             "ticks": ""
            },
            "colorscale": [
             [
              0,
              "#0d0887"
             ],
             [
              0.1111111111111111,
              "#46039f"
             ],
             [
              0.2222222222222222,
              "#7201a8"
             ],
             [
              0.3333333333333333,
              "#9c179e"
             ],
             [
              0.4444444444444444,
              "#bd3786"
             ],
             [
              0.5555555555555556,
              "#d8576b"
             ],
             [
              0.6666666666666666,
              "#ed7953"
             ],
             [
              0.7777777777777778,
              "#fb9f3a"
             ],
             [
              0.8888888888888888,
              "#fdca26"
             ],
             [
              1,
              "#f0f921"
             ]
            ],
            "type": "contour"
           }
          ],
          "contourcarpet": [
           {
            "colorbar": {
             "outlinewidth": 0,
             "ticks": ""
            },
            "type": "contourcarpet"
           }
          ],
          "heatmap": [
           {
            "colorbar": {
             "outlinewidth": 0,
             "ticks": ""
            },
            "colorscale": [
             [
              0,
              "#0d0887"
             ],
             [
              0.1111111111111111,
              "#46039f"
             ],
             [
              0.2222222222222222,
              "#7201a8"
             ],
             [
              0.3333333333333333,
              "#9c179e"
             ],
             [
              0.4444444444444444,
              "#bd3786"
             ],
             [
              0.5555555555555556,
              "#d8576b"
             ],
             [
              0.6666666666666666,
              "#ed7953"
             ],
             [
              0.7777777777777778,
              "#fb9f3a"
             ],
             [
              0.8888888888888888,
              "#fdca26"
             ],
             [
              1,
              "#f0f921"
             ]
            ],
            "type": "heatmap"
           }
          ],
          "heatmapgl": [
           {
            "colorbar": {
             "outlinewidth": 0,
             "ticks": ""
            },
            "colorscale": [
             [
              0,
              "#0d0887"
             ],
             [
              0.1111111111111111,
              "#46039f"
             ],
             [
              0.2222222222222222,
              "#7201a8"
             ],
             [
              0.3333333333333333,
              "#9c179e"
             ],
             [
              0.4444444444444444,
              "#bd3786"
             ],
             [
              0.5555555555555556,
              "#d8576b"
             ],
             [
              0.6666666666666666,
              "#ed7953"
             ],
             [
              0.7777777777777778,
              "#fb9f3a"
             ],
             [
              0.8888888888888888,
              "#fdca26"
             ],
             [
              1,
              "#f0f921"
             ]
            ],
            "type": "heatmapgl"
           }
          ],
          "histogram": [
           {
            "marker": {
             "pattern": {
              "fillmode": "overlay",
              "size": 10,
              "solidity": 0.2
             }
            },
            "type": "histogram"
           }
          ],
          "histogram2d": [
           {
            "colorbar": {
             "outlinewidth": 0,
             "ticks": ""
            },
            "colorscale": [
             [
              0,
              "#0d0887"
             ],
             [
              0.1111111111111111,
              "#46039f"
             ],
             [
              0.2222222222222222,
              "#7201a8"
             ],
             [
              0.3333333333333333,
              "#9c179e"
             ],
             [
              0.4444444444444444,
              "#bd3786"
             ],
             [
              0.5555555555555556,
              "#d8576b"
             ],
             [
              0.6666666666666666,
              "#ed7953"
             ],
             [
              0.7777777777777778,
              "#fb9f3a"
             ],
             [
              0.8888888888888888,
              "#fdca26"
             ],
             [
              1,
              "#f0f921"
             ]
            ],
            "type": "histogram2d"
           }
          ],
          "histogram2dcontour": [
           {
            "colorbar": {
             "outlinewidth": 0,
             "ticks": ""
            },
            "colorscale": [
             [
              0,
              "#0d0887"
             ],
             [
              0.1111111111111111,
              "#46039f"
             ],
             [
              0.2222222222222222,
              "#7201a8"
             ],
             [
              0.3333333333333333,
              "#9c179e"
             ],
             [
              0.4444444444444444,
              "#bd3786"
             ],
             [
              0.5555555555555556,
              "#d8576b"
             ],
             [
              0.6666666666666666,
              "#ed7953"
             ],
             [
              0.7777777777777778,
              "#fb9f3a"
             ],
             [
              0.8888888888888888,
              "#fdca26"
             ],
             [
              1,
              "#f0f921"
             ]
            ],
            "type": "histogram2dcontour"
           }
          ],
          "mesh3d": [
           {
            "colorbar": {
             "outlinewidth": 0,
             "ticks": ""
            },
            "type": "mesh3d"
           }
          ],
          "parcoords": [
           {
            "line": {
             "colorbar": {
              "outlinewidth": 0,
              "ticks": ""
             }
            },
            "type": "parcoords"
           }
          ],
          "pie": [
           {
            "automargin": true,
            "type": "pie"
           }
          ],
          "scatter": [
           {
            "fillpattern": {
             "fillmode": "overlay",
             "size": 10,
             "solidity": 0.2
            },
            "type": "scatter"
           }
          ],
          "scatter3d": [
           {
            "line": {
             "colorbar": {
              "outlinewidth": 0,
              "ticks": ""
             }
            },
            "marker": {
             "colorbar": {
              "outlinewidth": 0,
              "ticks": ""
             }
            },
            "type": "scatter3d"
           }
          ],
          "scattercarpet": [
           {
            "marker": {
             "colorbar": {
              "outlinewidth": 0,
              "ticks": ""
             }
            },
            "type": "scattercarpet"
           }
          ],
          "scattergeo": [
           {
            "marker": {
             "colorbar": {
              "outlinewidth": 0,
              "ticks": ""
             }
            },
            "type": "scattergeo"
           }
          ],
          "scattergl": [
           {
            "marker": {
             "colorbar": {
              "outlinewidth": 0,
              "ticks": ""
             }
            },
            "type": "scattergl"
           }
          ],
          "scattermapbox": [
           {
            "marker": {
             "colorbar": {
              "outlinewidth": 0,
              "ticks": ""
             }
            },
            "type": "scattermapbox"
           }
          ],
          "scatterpolar": [
           {
            "marker": {
             "colorbar": {
              "outlinewidth": 0,
              "ticks": ""
             }
            },
            "type": "scatterpolar"
           }
          ],
          "scatterpolargl": [
           {
            "marker": {
             "colorbar": {
              "outlinewidth": 0,
              "ticks": ""
             }
            },
            "type": "scatterpolargl"
           }
          ],
          "scatterternary": [
           {
            "marker": {
             "colorbar": {
              "outlinewidth": 0,
              "ticks": ""
             }
            },
            "type": "scatterternary"
           }
          ],
          "surface": [
           {
            "colorbar": {
             "outlinewidth": 0,
             "ticks": ""
            },
            "colorscale": [
             [
              0,
              "#0d0887"
             ],
             [
              0.1111111111111111,
              "#46039f"
             ],
             [
              0.2222222222222222,
              "#7201a8"
             ],
             [
              0.3333333333333333,
              "#9c179e"
             ],
             [
              0.4444444444444444,
              "#bd3786"
             ],
             [
              0.5555555555555556,
              "#d8576b"
             ],
             [
              0.6666666666666666,
              "#ed7953"
             ],
             [
              0.7777777777777778,
              "#fb9f3a"
             ],
             [
              0.8888888888888888,
              "#fdca26"
             ],
             [
              1,
              "#f0f921"
             ]
            ],
            "type": "surface"
           }
          ],
          "table": [
           {
            "cells": {
             "fill": {
              "color": "#EBF0F8"
             },
             "line": {
              "color": "white"
             }
            },
            "header": {
             "fill": {
              "color": "#C8D4E3"
             },
             "line": {
              "color": "white"
             }
            },
            "type": "table"
           }
          ]
         },
         "layout": {
          "annotationdefaults": {
           "arrowcolor": "#2a3f5f",
           "arrowhead": 0,
           "arrowwidth": 1
          },
          "autotypenumbers": "strict",
          "coloraxis": {
           "colorbar": {
            "outlinewidth": 0,
            "ticks": ""
           }
          },
          "colorscale": {
           "diverging": [
            [
             0,
             "#8e0152"
            ],
            [
             0.1,
             "#c51b7d"
            ],
            [
             0.2,
             "#de77ae"
            ],
            [
             0.3,
             "#f1b6da"
            ],
            [
             0.4,
             "#fde0ef"
            ],
            [
             0.5,
             "#f7f7f7"
            ],
            [
             0.6,
             "#e6f5d0"
            ],
            [
             0.7,
             "#b8e186"
            ],
            [
             0.8,
             "#7fbc41"
            ],
            [
             0.9,
             "#4d9221"
            ],
            [
             1,
             "#276419"
            ]
           ],
           "sequential": [
            [
             0,
             "#0d0887"
            ],
            [
             0.1111111111111111,
             "#46039f"
            ],
            [
             0.2222222222222222,
             "#7201a8"
            ],
            [
             0.3333333333333333,
             "#9c179e"
            ],
            [
             0.4444444444444444,
             "#bd3786"
            ],
            [
             0.5555555555555556,
             "#d8576b"
            ],
            [
             0.6666666666666666,
             "#ed7953"
            ],
            [
             0.7777777777777778,
             "#fb9f3a"
            ],
            [
             0.8888888888888888,
             "#fdca26"
            ],
            [
             1,
             "#f0f921"
            ]
           ],
           "sequentialminus": [
            [
             0,
             "#0d0887"
            ],
            [
             0.1111111111111111,
             "#46039f"
            ],
            [
             0.2222222222222222,
             "#7201a8"
            ],
            [
             0.3333333333333333,
             "#9c179e"
            ],
            [
             0.4444444444444444,
             "#bd3786"
            ],
            [
             0.5555555555555556,
             "#d8576b"
            ],
            [
             0.6666666666666666,
             "#ed7953"
            ],
            [
             0.7777777777777778,
             "#fb9f3a"
            ],
            [
             0.8888888888888888,
             "#fdca26"
            ],
            [
             1,
             "#f0f921"
            ]
           ]
          },
          "colorway": [
           "#636efa",
           "#EF553B",
           "#00cc96",
           "#ab63fa",
           "#FFA15A",
           "#19d3f3",
           "#FF6692",
           "#B6E880",
           "#FF97FF",
           "#FECB52"
          ],
          "font": {
           "color": "#2a3f5f"
          },
          "geo": {
           "bgcolor": "white",
           "lakecolor": "white",
           "landcolor": "#E5ECF6",
           "showlakes": true,
           "showland": true,
           "subunitcolor": "white"
          },
          "hoverlabel": {
           "align": "left"
          },
          "hovermode": "closest",
          "mapbox": {
           "style": "light"
          },
          "paper_bgcolor": "white",
          "plot_bgcolor": "#E5ECF6",
          "polar": {
           "angularaxis": {
            "gridcolor": "white",
            "linecolor": "white",
            "ticks": ""
           },
           "bgcolor": "#E5ECF6",
           "radialaxis": {
            "gridcolor": "white",
            "linecolor": "white",
            "ticks": ""
           }
          },
          "scene": {
           "xaxis": {
            "backgroundcolor": "#E5ECF6",
            "gridcolor": "white",
            "gridwidth": 2,
            "linecolor": "white",
            "showbackground": true,
            "ticks": "",
            "zerolinecolor": "white"
           },
           "yaxis": {
            "backgroundcolor": "#E5ECF6",
            "gridcolor": "white",
            "gridwidth": 2,
            "linecolor": "white",
            "showbackground": true,
            "ticks": "",
            "zerolinecolor": "white"
           },
           "zaxis": {
            "backgroundcolor": "#E5ECF6",
            "gridcolor": "white",
            "gridwidth": 2,
            "linecolor": "white",
            "showbackground": true,
            "ticks": "",
            "zerolinecolor": "white"
           }
          },
          "shapedefaults": {
           "line": {
            "color": "#2a3f5f"
           }
          },
          "ternary": {
           "aaxis": {
            "gridcolor": "white",
            "linecolor": "white",
            "ticks": ""
           },
           "baxis": {
            "gridcolor": "white",
            "linecolor": "white",
            "ticks": ""
           },
           "bgcolor": "#E5ECF6",
           "caxis": {
            "gridcolor": "white",
            "linecolor": "white",
            "ticks": ""
           }
          },
          "title": {
           "x": 0.05
          },
          "xaxis": {
           "automargin": true,
           "gridcolor": "white",
           "linecolor": "white",
           "ticks": "",
           "title": {
            "standoff": 15
           },
           "zerolinecolor": "white",
           "zerolinewidth": 2
          },
          "yaxis": {
           "automargin": true,
           "gridcolor": "white",
           "linecolor": "white",
           "ticks": "",
           "title": {
            "standoff": 15
           },
           "zerolinecolor": "white",
           "zerolinewidth": 2
          }
         }
        },
        "title": {
         "text": "Hyperparameter Importances"
        },
        "xaxis": {
         "title": {
          "text": "Hyperparameter Importance"
         }
        },
        "yaxis": {
         "title": {
          "text": "Hyperparameter"
         }
        }
       }
      }
     },
     "metadata": {},
     "output_type": "display_data"
    }
   ],
   "source": [
    "optuna_visualization_plots(study, save=True, save_dir=FIGURES_DIR)\n",
    "# optuna.visualization.plot_param_importances(study)\n",
    "# optuna.visualization.plot_optimization_history(study)"
   ]
  },
  {
   "cell_type": "markdown",
   "id": "fe96893a",
   "metadata": {},
   "source": [
    "## Retrain model with selected parameters"
   ]
  },
  {
   "cell_type": "code",
   "execution_count": 6,
   "id": "b678fb7a",
   "metadata": {},
   "outputs": [
    {
     "name": "stdout",
     "output_type": "stream",
     "text": [
      "0:\tlearn: 0.6759848\ttest: 0.6770762\tbest: 0.6770762 (0)\ttotal: 142ms\tremaining: 2m 21s\n",
      "1:\tlearn: 0.4515769\ttest: 0.4576060\tbest: 0.4576060 (1)\ttotal: 144ms\tremaining: 1m 11s\n",
      "2:\tlearn: 0.3004744\ttest: 0.3094014\tbest: 0.3094014 (2)\ttotal: 145ms\tremaining: 48.2s\n",
      "3:\tlearn: 0.2948858\ttest: 0.3007010\tbest: 0.3007010 (3)\ttotal: 146ms\tremaining: 36.5s\n",
      "4:\tlearn: 0.2948274\ttest: 0.3006096\tbest: 0.3006096 (4)\ttotal: 148ms\tremaining: 29.4s\n",
      "5:\tlearn: 0.2948001\ttest: 0.3005575\tbest: 0.3005575 (5)\ttotal: 149ms\tremaining: 24.6s\n",
      "6:\tlearn: 0.2709886\ttest: 0.2797573\tbest: 0.2797573 (6)\ttotal: 150ms\tremaining: 21.3s\n",
      "7:\tlearn: 0.2672539\ttest: 0.2791109\tbest: 0.2791109 (7)\ttotal: 151ms\tremaining: 18.7s\n",
      "8:\tlearn: 0.2583785\ttest: 0.2675643\tbest: 0.2675643 (8)\ttotal: 152ms\tremaining: 16.7s\n",
      "9:\tlearn: 0.2565089\ttest: 0.2679875\tbest: 0.2675643 (8)\ttotal: 153ms\tremaining: 15.2s\n",
      "10:\tlearn: 0.2565091\ttest: 0.2679821\tbest: 0.2675643 (8)\ttotal: 154ms\tremaining: 13.8s\n",
      "11:\tlearn: 0.2552770\ttest: 0.2696709\tbest: 0.2675643 (8)\ttotal: 155ms\tremaining: 12.8s\n",
      "12:\tlearn: 0.2552772\ttest: 0.2696698\tbest: 0.2675643 (8)\ttotal: 156ms\tremaining: 11.9s\n",
      "13:\tlearn: 0.2429918\ttest: 0.2527292\tbest: 0.2527292 (13)\ttotal: 158ms\tremaining: 11.1s\n",
      "14:\tlearn: 0.2277155\ttest: 0.2381617\tbest: 0.2381617 (14)\ttotal: 159ms\tremaining: 10.4s\n",
      "15:\tlearn: 0.2036873\ttest: 0.2134968\tbest: 0.2134968 (15)\ttotal: 160ms\tremaining: 9.86s\n",
      "16:\tlearn: 0.1965991\ttest: 0.2070033\tbest: 0.2070033 (16)\ttotal: 161ms\tremaining: 9.34s\n",
      "17:\tlearn: 0.1950882\ttest: 0.2032456\tbest: 0.2032456 (17)\ttotal: 163ms\tremaining: 8.88s\n",
      "18:\tlearn: 0.1950734\ttest: 0.2033169\tbest: 0.2032456 (17)\ttotal: 164ms\tremaining: 8.46s\n",
      "19:\tlearn: 0.1753547\ttest: 0.1907769\tbest: 0.1907769 (19)\ttotal: 165ms\tremaining: 8.08s\n",
      "20:\tlearn: 0.1753538\ttest: 0.1907875\tbest: 0.1907769 (19)\ttotal: 166ms\tremaining: 7.73s\n",
      "21:\tlearn: 0.1753531\ttest: 0.1907975\tbest: 0.1907769 (19)\ttotal: 166ms\tremaining: 7.4s\n",
      "22:\tlearn: 0.1649216\ttest: 0.1806207\tbest: 0.1806207 (22)\ttotal: 167ms\tremaining: 7.11s\n",
      "23:\tlearn: 0.1649216\ttest: 0.1806220\tbest: 0.1806207 (22)\ttotal: 168ms\tremaining: 6.85s\n",
      "24:\tlearn: 0.1649213\ttest: 0.1806222\tbest: 0.1806207 (22)\ttotal: 169ms\tremaining: 6.6s\n",
      "25:\tlearn: 0.1619272\ttest: 0.1802028\tbest: 0.1802028 (25)\ttotal: 170ms\tremaining: 6.37s\n",
      "26:\tlearn: 0.1602039\ttest: 0.1800099\tbest: 0.1800099 (26)\ttotal: 171ms\tremaining: 6.16s\n",
      "27:\tlearn: 0.1602040\ttest: 0.1800102\tbest: 0.1800099 (26)\ttotal: 172ms\tremaining: 5.96s\n",
      "28:\tlearn: 0.1602036\ttest: 0.1800185\tbest: 0.1800099 (26)\ttotal: 172ms\tremaining: 5.76s\n",
      "29:\tlearn: 0.1538878\ttest: 0.1696722\tbest: 0.1696722 (29)\ttotal: 173ms\tremaining: 5.59s\n",
      "30:\tlearn: 0.1538875\ttest: 0.1696762\tbest: 0.1696722 (29)\ttotal: 174ms\tremaining: 5.43s\n",
      "31:\tlearn: 0.1538870\ttest: 0.1696860\tbest: 0.1696722 (29)\ttotal: 175ms\tremaining: 5.28s\n",
      "32:\tlearn: 0.1538871\ttest: 0.1696870\tbest: 0.1696722 (29)\ttotal: 175ms\tremaining: 5.13s\n",
      "33:\tlearn: 0.1538869\ttest: 0.1696889\tbest: 0.1696722 (29)\ttotal: 176ms\tremaining: 5s\n",
      "34:\tlearn: 0.1484388\ttest: 0.1651605\tbest: 0.1651605 (34)\ttotal: 177ms\tremaining: 4.88s\n",
      "35:\tlearn: 0.1467769\ttest: 0.1634674\tbest: 0.1634674 (35)\ttotal: 178ms\tremaining: 4.76s\n",
      "36:\tlearn: 0.1467769\ttest: 0.1634666\tbest: 0.1634666 (36)\ttotal: 178ms\tremaining: 4.64s\n",
      "37:\tlearn: 0.1412319\ttest: 0.1603419\tbest: 0.1603419 (37)\ttotal: 179ms\tremaining: 4.54s\n",
      "38:\tlearn: 0.1385897\ttest: 0.1594279\tbest: 0.1594279 (38)\ttotal: 180ms\tremaining: 4.44s\n",
      "39:\tlearn: 0.1343082\ttest: 0.1568832\tbest: 0.1568832 (39)\ttotal: 181ms\tremaining: 4.35s\n",
      "40:\tlearn: 0.1297225\ttest: 0.1531459\tbest: 0.1531459 (40)\ttotal: 182ms\tremaining: 4.26s\n",
      "41:\tlearn: 0.1297224\ttest: 0.1531434\tbest: 0.1531434 (41)\ttotal: 183ms\tremaining: 4.17s\n",
      "42:\tlearn: 0.1224300\ttest: 0.1592592\tbest: 0.1531434 (41)\ttotal: 184ms\tremaining: 4.1s\n",
      "43:\tlearn: 0.1224299\ttest: 0.1592577\tbest: 0.1531434 (41)\ttotal: 185ms\tremaining: 4.01s\n",
      "44:\tlearn: 0.1224219\ttest: 0.1590562\tbest: 0.1531434 (41)\ttotal: 185ms\tremaining: 3.93s\n",
      "45:\tlearn: 0.1224221\ttest: 0.1590541\tbest: 0.1531434 (41)\ttotal: 186ms\tremaining: 3.85s\n",
      "46:\tlearn: 0.1224221\ttest: 0.1590520\tbest: 0.1531434 (41)\ttotal: 186ms\tremaining: 3.78s\n",
      "47:\tlearn: 0.1224213\ttest: 0.1590278\tbest: 0.1531434 (41)\ttotal: 187ms\tremaining: 3.71s\n",
      "48:\tlearn: 0.1224207\ttest: 0.1590049\tbest: 0.1531434 (41)\ttotal: 188ms\tremaining: 3.64s\n",
      "49:\tlearn: 0.1224201\ttest: 0.1589832\tbest: 0.1531434 (41)\ttotal: 188ms\tremaining: 3.58s\n",
      "50:\tlearn: 0.1069157\ttest: 0.1394578\tbest: 0.1394578 (50)\ttotal: 189ms\tremaining: 3.52s\n",
      "51:\tlearn: 0.1069157\ttest: 0.1394562\tbest: 0.1394562 (51)\ttotal: 190ms\tremaining: 3.46s\n",
      "52:\tlearn: 0.0917028\ttest: 0.1287374\tbest: 0.1287374 (52)\ttotal: 191ms\tremaining: 3.41s\n",
      "53:\tlearn: 0.0917000\ttest: 0.1286609\tbest: 0.1286609 (53)\ttotal: 192ms\tremaining: 3.36s\n",
      "54:\tlearn: 0.0916990\ttest: 0.1286311\tbest: 0.1286311 (54)\ttotal: 192ms\tremaining: 3.31s\n",
      "55:\tlearn: 0.0902006\ttest: 0.1278794\tbest: 0.1278794 (55)\ttotal: 193ms\tremaining: 3.26s\n",
      "56:\tlearn: 0.0857403\ttest: 0.1246637\tbest: 0.1246637 (56)\ttotal: 195ms\tremaining: 3.22s\n",
      "57:\tlearn: 0.0847493\ttest: 0.1246853\tbest: 0.1246637 (56)\ttotal: 196ms\tremaining: 3.18s\n",
      "58:\tlearn: 0.0812295\ttest: 0.1214506\tbest: 0.1214506 (58)\ttotal: 197ms\tremaining: 3.14s\n",
      "59:\tlearn: 0.0812295\ttest: 0.1214571\tbest: 0.1214506 (58)\ttotal: 197ms\tremaining: 3.09s\n",
      "60:\tlearn: 0.0812294\ttest: 0.1214577\tbest: 0.1214506 (58)\ttotal: 198ms\tremaining: 3.05s\n",
      "61:\tlearn: 0.0780008\ttest: 0.1178887\tbest: 0.1178887 (61)\ttotal: 199ms\tremaining: 3.01s\n",
      "62:\tlearn: 0.0765857\ttest: 0.1166208\tbest: 0.1166208 (62)\ttotal: 200ms\tremaining: 2.97s\n",
      "63:\tlearn: 0.0765856\ttest: 0.1166211\tbest: 0.1166208 (62)\ttotal: 200ms\tremaining: 2.93s\n",
      "64:\tlearn: 0.0765857\ttest: 0.1166215\tbest: 0.1166208 (62)\ttotal: 201ms\tremaining: 2.89s\n",
      "65:\tlearn: 0.0762957\ttest: 0.1176800\tbest: 0.1166208 (62)\ttotal: 202ms\tremaining: 2.86s\n",
      "66:\tlearn: 0.0762956\ttest: 0.1176811\tbest: 0.1166208 (62)\ttotal: 202ms\tremaining: 2.82s\n",
      "67:\tlearn: 0.0762958\ttest: 0.1176821\tbest: 0.1166208 (62)\ttotal: 203ms\tremaining: 2.78s\n",
      "68:\tlearn: 0.0762955\ttest: 0.1176864\tbest: 0.1166208 (62)\ttotal: 204ms\tremaining: 2.75s\n",
      "69:\tlearn: 0.0762956\ttest: 0.1176874\tbest: 0.1166208 (62)\ttotal: 204ms\tremaining: 2.71s\n",
      "70:\tlearn: 0.0744821\ttest: 0.1170708\tbest: 0.1166208 (62)\ttotal: 206ms\tremaining: 2.69s\n",
      "71:\tlearn: 0.0731824\ttest: 0.1144564\tbest: 0.1144564 (71)\ttotal: 207ms\tremaining: 2.66s\n",
      "72:\tlearn: 0.0731824\ttest: 0.1144590\tbest: 0.1144564 (71)\ttotal: 208ms\tremaining: 2.63s\n",
      "73:\tlearn: 0.0693241\ttest: 0.1125731\tbest: 0.1125731 (73)\ttotal: 209ms\tremaining: 2.61s\n",
      "74:\tlearn: 0.0650150\ttest: 0.1120799\tbest: 0.1120799 (74)\ttotal: 210ms\tremaining: 2.59s\n",
      "75:\tlearn: 0.0650151\ttest: 0.1120808\tbest: 0.1120799 (74)\ttotal: 211ms\tremaining: 2.56s\n",
      "76:\tlearn: 0.0644301\ttest: 0.1101012\tbest: 0.1101012 (76)\ttotal: 212ms\tremaining: 2.54s\n",
      "77:\tlearn: 0.0636509\ttest: 0.1099672\tbest: 0.1099672 (77)\ttotal: 213ms\tremaining: 2.51s\n",
      "78:\tlearn: 0.0636508\ttest: 0.1099720\tbest: 0.1099672 (77)\ttotal: 213ms\tremaining: 2.48s\n",
      "79:\tlearn: 0.0636506\ttest: 0.1099732\tbest: 0.1099672 (77)\ttotal: 214ms\tremaining: 2.46s\n",
      "80:\tlearn: 0.0628126\ttest: 0.1093520\tbest: 0.1093520 (80)\ttotal: 215ms\tremaining: 2.44s\n",
      "81:\tlearn: 0.0612837\ttest: 0.1073399\tbest: 0.1073399 (81)\ttotal: 216ms\tremaining: 2.41s\n",
      "82:\tlearn: 0.0610818\ttest: 0.1079653\tbest: 0.1073399 (81)\ttotal: 216ms\tremaining: 2.39s\n",
      "83:\tlearn: 0.0610817\ttest: 0.1079694\tbest: 0.1073399 (81)\ttotal: 217ms\tremaining: 2.37s\n",
      "84:\tlearn: 0.0610818\ttest: 0.1079720\tbest: 0.1073399 (81)\ttotal: 218ms\tremaining: 2.34s\n",
      "85:\tlearn: 0.0598145\ttest: 0.1064593\tbest: 0.1064593 (85)\ttotal: 219ms\tremaining: 2.33s\n",
      "86:\tlearn: 0.0592182\ttest: 0.1055693\tbest: 0.1055693 (86)\ttotal: 220ms\tremaining: 2.31s\n",
      "87:\tlearn: 0.0577295\ttest: 0.1038298\tbest: 0.1038298 (87)\ttotal: 221ms\tremaining: 2.29s\n",
      "88:\tlearn: 0.0577296\ttest: 0.1038358\tbest: 0.1038298 (87)\ttotal: 221ms\tremaining: 2.27s\n",
      "89:\tlearn: 0.0575847\ttest: 0.1037792\tbest: 0.1037792 (89)\ttotal: 222ms\tremaining: 2.25s\n",
      "90:\tlearn: 0.0575847\ttest: 0.1037802\tbest: 0.1037792 (89)\ttotal: 223ms\tremaining: 2.23s\n",
      "91:\tlearn: 0.0575846\ttest: 0.1037839\tbest: 0.1037792 (89)\ttotal: 224ms\tremaining: 2.21s\n",
      "92:\tlearn: 0.0554605\ttest: 0.1026482\tbest: 0.1026482 (92)\ttotal: 225ms\tremaining: 2.19s\n",
      "93:\tlearn: 0.0554606\ttest: 0.1026497\tbest: 0.1026482 (92)\ttotal: 225ms\tremaining: 2.17s\n",
      "94:\tlearn: 0.0538794\ttest: 0.0996666\tbest: 0.0996666 (94)\ttotal: 226ms\tremaining: 2.15s\n",
      "95:\tlearn: 0.0538793\ttest: 0.0996667\tbest: 0.0996666 (94)\ttotal: 227ms\tremaining: 2.13s\n",
      "96:\tlearn: 0.0530467\ttest: 0.0988669\tbest: 0.0988669 (96)\ttotal: 228ms\tremaining: 2.12s\n",
      "97:\tlearn: 0.0483070\ttest: 0.0940076\tbest: 0.0940076 (97)\ttotal: 228ms\tremaining: 2.1s\n",
      "98:\tlearn: 0.0483071\ttest: 0.0940079\tbest: 0.0940076 (97)\ttotal: 229ms\tremaining: 2.08s\n",
      "99:\tlearn: 0.0483071\ttest: 0.0940102\tbest: 0.0940076 (97)\ttotal: 230ms\tremaining: 2.07s\n",
      "100:\tlearn: 0.0483069\ttest: 0.0940149\tbest: 0.0940076 (97)\ttotal: 230ms\tremaining: 2.05s\n",
      "101:\tlearn: 0.0483070\ttest: 0.0940154\tbest: 0.0940076 (97)\ttotal: 231ms\tremaining: 2.03s\n",
      "102:\tlearn: 0.0477014\ttest: 0.0942913\tbest: 0.0940076 (97)\ttotal: 232ms\tremaining: 2.02s\n",
      "103:\tlearn: 0.0477014\ttest: 0.0942921\tbest: 0.0940076 (97)\ttotal: 232ms\tremaining: 2s\n",
      "104:\tlearn: 0.0477014\ttest: 0.0942925\tbest: 0.0940076 (97)\ttotal: 233ms\tremaining: 1.99s\n",
      "105:\tlearn: 0.0445857\ttest: 0.0901703\tbest: 0.0901703 (105)\ttotal: 234ms\tremaining: 1.98s\n",
      "106:\tlearn: 0.0445856\ttest: 0.0901707\tbest: 0.0901703 (105)\ttotal: 235ms\tremaining: 1.96s\n",
      "107:\tlearn: 0.0425674\ttest: 0.0921764\tbest: 0.0901703 (105)\ttotal: 236ms\tremaining: 1.95s\n",
      "108:\tlearn: 0.0425674\ttest: 0.0921759\tbest: 0.0901703 (105)\ttotal: 237ms\tremaining: 1.94s\n",
      "109:\tlearn: 0.0409635\ttest: 0.0912103\tbest: 0.0901703 (105)\ttotal: 238ms\tremaining: 1.93s\n",
      "110:\tlearn: 0.0409636\ttest: 0.0912181\tbest: 0.0901703 (105)\ttotal: 239ms\tremaining: 1.91s\n",
      "111:\tlearn: 0.0409635\ttest: 0.0912207\tbest: 0.0901703 (105)\ttotal: 239ms\tremaining: 1.9s\n",
      "112:\tlearn: 0.0409634\ttest: 0.0912214\tbest: 0.0901703 (105)\ttotal: 240ms\tremaining: 1.88s\n",
      "113:\tlearn: 0.0409634\ttest: 0.0912220\tbest: 0.0901703 (105)\ttotal: 241ms\tremaining: 1.87s\n",
      "114:\tlearn: 0.0409634\ttest: 0.0912270\tbest: 0.0901703 (105)\ttotal: 241ms\tremaining: 1.86s\n",
      "115:\tlearn: 0.0400171\ttest: 0.0892347\tbest: 0.0892347 (115)\ttotal: 242ms\tremaining: 1.84s\n",
      "116:\tlearn: 0.0400172\ttest: 0.0892382\tbest: 0.0892347 (115)\ttotal: 243ms\tremaining: 1.83s\n",
      "117:\tlearn: 0.0400171\ttest: 0.0892416\tbest: 0.0892347 (115)\ttotal: 243ms\tremaining: 1.82s\n",
      "118:\tlearn: 0.0400170\ttest: 0.0892432\tbest: 0.0892347 (115)\ttotal: 244ms\tremaining: 1.81s\n",
      "119:\tlearn: 0.0361293\ttest: 0.0844408\tbest: 0.0844408 (119)\ttotal: 245ms\tremaining: 1.8s\n",
      "120:\tlearn: 0.0356486\ttest: 0.0843499\tbest: 0.0843499 (120)\ttotal: 246ms\tremaining: 1.79s\n",
      "121:\tlearn: 0.0353737\ttest: 0.0840957\tbest: 0.0840957 (121)\ttotal: 247ms\tremaining: 1.78s\n",
      "122:\tlearn: 0.0353735\ttest: 0.0840892\tbest: 0.0840892 (122)\ttotal: 248ms\tremaining: 1.77s\n",
      "123:\tlearn: 0.0348054\ttest: 0.0831031\tbest: 0.0831031 (123)\ttotal: 249ms\tremaining: 1.76s\n",
      "124:\tlearn: 0.0348054\ttest: 0.0831027\tbest: 0.0831027 (124)\ttotal: 250ms\tremaining: 1.75s\n",
      "125:\tlearn: 0.0348055\ttest: 0.0831023\tbest: 0.0831023 (125)\ttotal: 250ms\tremaining: 1.74s\n",
      "126:\tlearn: 0.0341093\ttest: 0.0823136\tbest: 0.0823136 (126)\ttotal: 251ms\tremaining: 1.73s\n",
      "127:\tlearn: 0.0341092\ttest: 0.0823192\tbest: 0.0823136 (126)\ttotal: 252ms\tremaining: 1.72s\n",
      "128:\tlearn: 0.0339559\ttest: 0.0822074\tbest: 0.0822074 (128)\ttotal: 253ms\tremaining: 1.71s\n",
      "129:\tlearn: 0.0339558\ttest: 0.0822085\tbest: 0.0822074 (128)\ttotal: 254ms\tremaining: 1.7s\n",
      "130:\tlearn: 0.0339557\ttest: 0.0822145\tbest: 0.0822074 (128)\ttotal: 254ms\tremaining: 1.69s\n",
      "131:\tlearn: 0.0337755\ttest: 0.0820467\tbest: 0.0820467 (131)\ttotal: 255ms\tremaining: 1.68s\n",
      "132:\tlearn: 0.0334023\ttest: 0.0818206\tbest: 0.0818206 (132)\ttotal: 256ms\tremaining: 1.67s\n",
      "133:\tlearn: 0.0334023\ttest: 0.0818284\tbest: 0.0818206 (132)\ttotal: 257ms\tremaining: 1.66s\n",
      "134:\tlearn: 0.0334023\ttest: 0.0818288\tbest: 0.0818206 (132)\ttotal: 257ms\tremaining: 1.65s\n",
      "135:\tlearn: 0.0334022\ttest: 0.0818358\tbest: 0.0818206 (132)\ttotal: 258ms\tremaining: 1.64s\n",
      "136:\tlearn: 0.0329250\ttest: 0.0810885\tbest: 0.0810885 (136)\ttotal: 259ms\tremaining: 1.63s\n",
      "137:\tlearn: 0.0329249\ttest: 0.0810892\tbest: 0.0810885 (136)\ttotal: 260ms\tremaining: 1.62s\n",
      "138:\tlearn: 0.0329250\ttest: 0.0810902\tbest: 0.0810885 (136)\ttotal: 260ms\tremaining: 1.61s\n",
      "139:\tlearn: 0.0311093\ttest: 0.0805928\tbest: 0.0805928 (139)\ttotal: 262ms\tremaining: 1.61s\n",
      "140:\tlearn: 0.0311093\ttest: 0.0805939\tbest: 0.0805928 (139)\ttotal: 262ms\tremaining: 1.6s\n",
      "141:\tlearn: 0.0275845\ttest: 0.0815644\tbest: 0.0805928 (139)\ttotal: 265ms\tremaining: 1.6s\n",
      "142:\tlearn: 0.0275845\ttest: 0.0815545\tbest: 0.0805928 (139)\ttotal: 266ms\tremaining: 1.59s\n",
      "143:\tlearn: 0.0274090\ttest: 0.0830055\tbest: 0.0805928 (139)\ttotal: 267ms\tremaining: 1.58s\n",
      "144:\tlearn: 0.0271983\ttest: 0.0828251\tbest: 0.0805928 (139)\ttotal: 268ms\tremaining: 1.58s\n",
      "145:\tlearn: 0.0269671\ttest: 0.0834308\tbest: 0.0805928 (139)\ttotal: 268ms\tremaining: 1.57s\n",
      "146:\tlearn: 0.0269671\ttest: 0.0834308\tbest: 0.0805928 (139)\ttotal: 269ms\tremaining: 1.56s\n",
      "147:\tlearn: 0.0268367\ttest: 0.0823882\tbest: 0.0805928 (139)\ttotal: 270ms\tremaining: 1.55s\n",
      "148:\tlearn: 0.0254840\ttest: 0.0809814\tbest: 0.0805928 (139)\ttotal: 272ms\tremaining: 1.55s\n",
      "149:\tlearn: 0.0254840\ttest: 0.0809779\tbest: 0.0805928 (139)\ttotal: 272ms\tremaining: 1.54s\n",
      "150:\tlearn: 0.0254840\ttest: 0.0809770\tbest: 0.0805928 (139)\ttotal: 273ms\tremaining: 1.53s\n",
      "151:\tlearn: 0.0250798\ttest: 0.0804511\tbest: 0.0804511 (151)\ttotal: 274ms\tremaining: 1.53s\n",
      "152:\tlearn: 0.0249334\ttest: 0.0810059\tbest: 0.0804511 (151)\ttotal: 274ms\tremaining: 1.52s\n",
      "153:\tlearn: 0.0235224\ttest: 0.0791006\tbest: 0.0791006 (153)\ttotal: 276ms\tremaining: 1.51s\n",
      "154:\tlearn: 0.0232649\ttest: 0.0785216\tbest: 0.0785216 (154)\ttotal: 277ms\tremaining: 1.51s\n",
      "155:\tlearn: 0.0228103\ttest: 0.0785631\tbest: 0.0785216 (154)\ttotal: 278ms\tremaining: 1.5s\n",
      "156:\tlearn: 0.0228103\ttest: 0.0785608\tbest: 0.0785216 (154)\ttotal: 279ms\tremaining: 1.5s\n",
      "157:\tlearn: 0.0211074\ttest: 0.0729749\tbest: 0.0729749 (157)\ttotal: 280ms\tremaining: 1.49s\n",
      "158:\tlearn: 0.0211073\ttest: 0.0729816\tbest: 0.0729749 (157)\ttotal: 280ms\tremaining: 1.48s\n",
      "159:\tlearn: 0.0201978\ttest: 0.0718938\tbest: 0.0718938 (159)\ttotal: 282ms\tremaining: 1.48s\n",
      "160:\tlearn: 0.0201978\ttest: 0.0718962\tbest: 0.0718938 (159)\ttotal: 282ms\tremaining: 1.47s\n",
      "161:\tlearn: 0.0201978\ttest: 0.0718985\tbest: 0.0718938 (159)\ttotal: 283ms\tremaining: 1.46s\n",
      "162:\tlearn: 0.0201977\ttest: 0.0719008\tbest: 0.0718938 (159)\ttotal: 284ms\tremaining: 1.46s\n",
      "163:\tlearn: 0.0198482\ttest: 0.0713557\tbest: 0.0713557 (163)\ttotal: 285ms\tremaining: 1.45s\n",
      "164:\tlearn: 0.0198482\ttest: 0.0713560\tbest: 0.0713557 (163)\ttotal: 285ms\tremaining: 1.44s\n",
      "165:\tlearn: 0.0193492\ttest: 0.0727098\tbest: 0.0713557 (163)\ttotal: 287ms\tremaining: 1.44s\n",
      "166:\tlearn: 0.0193492\ttest: 0.0727122\tbest: 0.0713557 (163)\ttotal: 287ms\tremaining: 1.43s\n",
      "167:\tlearn: 0.0192652\ttest: 0.0730695\tbest: 0.0713557 (163)\ttotal: 288ms\tremaining: 1.43s\n",
      "168:\tlearn: 0.0191517\ttest: 0.0732955\tbest: 0.0713557 (163)\ttotal: 289ms\tremaining: 1.42s\n",
      "169:\tlearn: 0.0187446\ttest: 0.0725907\tbest: 0.0713557 (163)\ttotal: 290ms\tremaining: 1.42s\n",
      "170:\tlearn: 0.0187445\ttest: 0.0725976\tbest: 0.0713557 (163)\ttotal: 291ms\tremaining: 1.41s\n",
      "171:\tlearn: 0.0184456\ttest: 0.0720688\tbest: 0.0713557 (163)\ttotal: 292ms\tremaining: 1.41s\n",
      "172:\tlearn: 0.0183169\ttest: 0.0728299\tbest: 0.0713557 (163)\ttotal: 294ms\tremaining: 1.4s\n",
      "173:\tlearn: 0.0180804\ttest: 0.0733454\tbest: 0.0713557 (163)\ttotal: 294ms\tremaining: 1.4s\n",
      "174:\tlearn: 0.0180804\ttest: 0.0733456\tbest: 0.0713557 (163)\ttotal: 295ms\tremaining: 1.39s\n",
      "175:\tlearn: 0.0180805\ttest: 0.0733458\tbest: 0.0713557 (163)\ttotal: 296ms\tremaining: 1.39s\n",
      "176:\tlearn: 0.0180004\ttest: 0.0736428\tbest: 0.0713557 (163)\ttotal: 297ms\tremaining: 1.38s\n",
      "177:\tlearn: 0.0180004\ttest: 0.0736428\tbest: 0.0713557 (163)\ttotal: 298ms\tremaining: 1.38s\n",
      "178:\tlearn: 0.0175167\ttest: 0.0734689\tbest: 0.0713557 (163)\ttotal: 299ms\tremaining: 1.37s\n",
      "Stopped by overfitting detector  (15 iterations wait)\n",
      "\n",
      "bestTest = 0.07135574093\n",
      "bestIteration = 163\n",
      "\n",
      "Shrink model to first 164 iterations.\n"
     ]
    }
   ],
   "source": [
    "# Train model with selected params. Save\n",
    "params = study.best_params\n",
    "model = CatBoostClassifier(**params, cat_features=cat_features)\n",
    "model.fit(\n",
    "    X_train, y_train, \n",
    "    eval_set=[(X_test, y_test)], \n",
    "    verbose=1, \n",
    "    early_stopping_rounds=cnf['early_stopping_rounds'])\n",
    "\n",
    "\n",
    "metrics_scores = calculate_cls_metrics(model, X_test, y_test, metrics_list='auto', verbose=True)\n",
    "# joblib.dump(model, os.path.join(MODELS_DIR, \"opt_cls_120123.pkl\"))\n",
    "\n",
    "# model_name = \"opt_cls_120123.pkl\"\n",
    "# model = joblib.load(os.path.join(MODELS_DIR, model_name))\n",
    "# prefix = model_name"
   ]
  },
  {
   "cell_type": "markdown",
   "id": "19befa72",
   "metadata": {},
   "source": [
    "### Feature Importance"
   ]
  },
  {
   "cell_type": "code",
   "execution_count": 7,
   "id": "f6b4977b",
   "metadata": {},
   "outputs": [],
   "source": [
    "# prefix = str(datetime.today().date())\n",
    "feature_importance_plot(model, figsize=(10,15), save=True, save_dir=FIGURES_DIR, prefix='')"
   ]
  },
  {
   "cell_type": "code",
   "execution_count": null,
   "id": "202955f7",
   "metadata": {},
   "outputs": [],
   "source": [
    "def feature_importance_plot(model, figsize=(10,15), save=True, save_dir=FIGURES_DIR, prefix=''):\n",
    "    \"\"\"Plot feature importance and safe the plot.\n",
    "\n",
    "    Args:\n",
    "        model (_type_): _description_\n",
    "        save (bool, optional): _description_. Defaults to True.\n",
    "        save_dir (_type_, optional): _description_. Defaults to FIGURES_DIR.\n",
    "    \"\"\"\n",
    "    if prefix == '':\n",
    "        prefix = str(datetime.today().date())\n",
    "\n",
    "    f_importance_df = pd.DataFrame(\n",
    "    [model.feature_names_, model.feature_importances_],\n",
    "    ['features', 'f_importance']\n",
    "    ).T.sort_values(by='f_importance', ascending=True)\n",
    "\n",
    "    plt.figure(figsize=figsize)\n",
    "    plt.barh(f_importance_df.features, f_importance_df.f_importance)\n",
    "    plt.savefig(\n",
    "        os.path.join(save_dir, f'feature_importance_{prefix}.png'), \n",
    "        bbox_inches='tight'\n",
    "        )"
   ]
  },
  {
   "cell_type": "markdown",
   "id": "5050b2c1",
   "metadata": {},
   "source": [
    "### SHAP plot"
   ]
  },
  {
   "cell_type": "code",
   "execution_count": null,
   "id": "e10405bd",
   "metadata": {},
   "outputs": [],
   "source": [
    "def calculate_shap(X, model, save=True, save_dir=FIGURES_DIR, prefix=''):\n",
    "    \"\"\"calculate_shap values, save plot\n",
    "\n",
    "    Args:\n",
    "        X (_type_): _description_\n",
    "        model (_type_): _description_\n",
    "        save (bool, optional): _description_. Defaults to True.\n",
    "        save_dir (_type_, optional): _description_. Defaults to FIGURES_DIR.\n",
    "        prefix (str, optional): _description_. Defaults to ''.\n",
    "    \"\"\"\n",
    "    cat_features = np.where(X.dtypes=='object')[0]\n",
    "\n",
    "    # SHAP VALUES FOR FEATURES \n",
    "    shap_values = model.get_feature_importance(Pool(X, label=y, \n",
    "                                                cat_features=cat_features), \n",
    "                                                type=\"ShapValues\")\n",
    "    shap_values = shap_values[:,:-1]\n",
    "    assert shap_values.shape[0] == X.shape[0]\n",
    "    if save:\n",
    "        if prefix == '':\n",
    "            prefix = str(dt.today().date())\n",
    "        save_shap_plot(X, shap_values, fig_path=save_dir, prefix=prefix)\n"
   ]
  },
  {
   "cell_type": "code",
   "execution_count": 12,
   "id": "2dc11604",
   "metadata": {},
   "outputs": [
    {
     "data": {
      "image/png": "[encoded data removed]",
      "text/plain": [
       "<Figure size 800x710 with 2 Axes>"
      ]
     },
     "metadata": {},
     "output_type": "display_data"
    }
   ],
   "source": [
    "calculate_shap(X, y, model, save=True, save_dir=FIGURES_DIR, prefix='')"
   ]
  },
  {
   "cell_type": "markdown",
   "id": "1b48aa65",
   "metadata": {},
   "source": [
    "## Log with MLFlow\n",
    "https://github.com/alfredodeza/mlflow-demo/blob/main/register/models.ipynb"
   ]
  },
  {
   "cell_type": "code",
   "execution_count": null,
   "id": "f1e44c92",
   "metadata": {},
   "outputs": [],
   "source": [
    "def get_mlflow_experiment(experiment_name, create=True, verbose=True):\n",
    "    # experiment name: unique and case sensitive\n",
    "    # Create an experiment if not existent\n",
    "    experiment = mlflow.get_experiment_by_name(experiment_name)\n",
    "    if experiment:\n",
    "        experiment_id = experiment.experiment_id\n",
    "    else:\n",
    "        if create:\n",
    "            experiment_id = mlflow.create_experiment(\n",
    "                experiment_name,\n",
    "                artifact_location=Path.cwd().joinpath(\"mlruns\").as_uri(),\n",
    "                tags={\"version\": \"v1\", \"priority\": \"P1\"},\n",
    "            )\n",
    "        else:\n",
    "            print(f\"Experiment {experiment_name} does not exist. To create it put create=True\")\n",
    "            return None\n",
    "        \n",
    "    if experiment:\n",
    "        experiment = mlflow.get_experiment(experiment_id)\n",
    "        if verbose:\n",
    "            print(f\"Name: {experiment.name}\")\n",
    "            print(f\"Experiment_id: {experiment.experiment_id}\")\n",
    "            print(f\"Artifact Location: {experiment.artifact_location}\")\n",
    "            print(f\"Tags: {experiment.tags}\")\n",
    "            print(f\"Lifecycle_stage: {experiment.lifecycle_stage}\")\n",
    "            print(f\"Creation timestamp: {experiment.creation_time}\")\n",
    "    return experiment\n"
   ]
  },
  {
   "cell_type": "code",
   "execution_count": 8,
   "id": "46a5c367",
   "metadata": {},
   "outputs": [
    {
     "name": "stdout",
     "output_type": "stream",
     "text": [
      "Name: Catboost cls breast cancer\n",
      "Experiment_id: 421878044666324479\n",
      "Artifact Location: file:///c:/CREDEM/MLOps/mlflow/src/mlruns\n",
      "Tags: {'priority': 'P1', 'version': 'v1'}\n",
      "Lifecycle_stage: active\n",
      "Creation timestamp: 1706029340259\n"
     ]
    }
   ],
   "source": [
    "experiment = get_mlflow_experiment(experiment_name=\"Catboost cls breast cancer\", create=True, verbose=True)\n",
    "\n",
    "# mlflow.delete_experiment(experiment_id)"
   ]
  },
  {
   "cell_type": "code",
   "execution_count": 14,
   "id": "e8a68632",
   "metadata": {},
   "outputs": [],
   "source": [
    "todays_datetime = str(datetime.today())\n",
    "mlflow.set_experiment(experiment.experiment_name)\n",
    "\n",
    "with mlflow.start_run(experiment_id=experiment.experiment_id, run_name=f'{todays_datetime}_catboost_cls'):\n",
    "    run = mlflow.active_run()\n",
    "    run_path = os.path.join(MLRUNS_DIR, run.info.experiment_id, run.info.run_id)\n",
    "    \n",
    "    # parameters\n",
    "    for param, value in best_trial.params.items():\n",
    "        mlflow.log_param(param, value)\n",
    "\n",
    "    for param, value in cnf.items():\n",
    "        mlflow.log_param(param, value)\n",
    "    # mlflow.log_params(params)\n",
    "    # mlflow.log_params('early_stopping_rounds', cnf['early_stopping_rounds'])\n",
    "    # mlflow.log_param('features', X.columns)\n",
    "    # mlflow.log_param('cat_features', cat_features)\n",
    "    \n",
    "\n",
    "    signature = infer_signature(X_test, model.predict(X_test))\n",
    "    model_path = os.path.join(run_path, \"model\")\n",
    "    mlflow.catboost.log_model(model, artifact_path=model_path, signature=signature)\n",
    "    model_uri = mlflow.get_artifact_uri(\"model\")\n",
    "\n",
    "    # artifacts\n",
    "    artifact_path = os.path.join(run_path, \"artifacts\")\n",
    "    X_train.to_csv(os.path.join(OUTPUT_DIR, \"X_train.csv\"), index=False)\n",
    "    pd.DataFrame(y_train).to_csv(os.path.join(OUTPUT_DIR, \"y_train.csv\"), index=False)\n",
    "    X_test.to_csv(os.path.join(OUTPUT_DIR, \"X_test.csv\"), index=False)\n",
    "    pd.DataFrame(y_test).to_csv(os.path.join(OUTPUT_DIR, \"y_test.csv\"), index=False)\n",
    "\n",
    "    mlflow.log_artifact(os.path.join(OUTPUT_DIR, \"X_train.csv\"), artifact_path=os.path.join(artifact_path, \"X_train\"))\n",
    "    mlflow.log_artifact(os.path.join(OUTPUT_DIR, \"y_train.csv\"), artifact_path=os.path.join(artifact_path, \"y_train\"))\n",
    "    mlflow.log_artifact(os.path.join(OUTPUT_DIR, \"X_test.csv\"), artifact_path=os.path.join(artifact_path, \"X_test\"))\n",
    "    mlflow.log_artifact(os.path.join(OUTPUT_DIR, \"y_test.csv\"), artifact_path=os.path.join(artifact_path, \"y_test\"))\n",
    "\n",
    "    # mlflow.log_artifact('X_train', X_train)\n",
    "    # mlflow.log_artifact('X_test', X_test)\n",
    "    # mlflow.log_artifact('y_train', X_train)\n",
    "    # mlflow.log_artifact('y_test', X_test)\n",
    "    \n",
    "    # metrics\n",
    "    mlflow.log_metric(\"optuna_best_score\", best_trial.value)\n",
    "    for metric_name, metric_score in metrics_scores.items():\n",
    "        mlflow.log_metric(metric_name, metric_score)\n",
    "\n",
    "# Load model\n",
    "# loaded_model = mlflow.catboost.load_model(model_uri)\n",
    "\n",
    "# run_id = run.info.run_id\n",
    "# mlflow.delete_run(run_id)  "
   ]
  },
  {
   "cell_type": "code",
   "execution_count": null,
   "id": "72869322",
   "metadata": {},
   "outputs": [],
   "source": []
  },
  {
   "cell_type": "code",
   "execution_count": null,
   "id": "59a8881a",
   "metadata": {},
   "outputs": [],
   "source": []
  },
  {
   "cell_type": "markdown",
   "id": "1b3f732d",
   "metadata": {},
   "source": [
    "## Predictions"
   ]
  },
  {
   "cell_type": "code",
   "execution_count": 68,
   "id": "bd09ac61",
   "metadata": {},
   "outputs": [
    {
     "name": "stdout",
     "output_type": "stream",
     "text": [
      "Scores: train 1.00, test 0.97\n"
     ]
    }
   ],
   "source": [
    "# make prediction\n",
    "y_pred_test = model.predict(X_test)\n",
    "y_pred_train = model.predict(X_train)\n",
    "\n",
    "score_test = metrics.balanced_accuracy_score(y_test, y_pred_test)\n",
    "score_train = metrics.balanced_accuracy_score(y_train, y_pred_train)\n",
    "\n",
    "print(f\"Scores: train {score_train :.2f}, test {score_test :.2f}\")\n"
   ]
  },
  {
   "cell_type": "code",
   "execution_count": 67,
   "id": "25b44f8d",
   "metadata": {},
   "outputs": [
    {
     "ename": "NameError",
     "evalue": "name 'y_pred_train' is not defined",
     "output_type": "error",
     "traceback": [
      "\u001b[1;31m---------------------------------------------------------------------------\u001b[0m",
      "\u001b[1;31mNameError\u001b[0m                                 Traceback (most recent call last)",
      "Cell \u001b[1;32mIn[67], line 1\u001b[0m\n\u001b[1;32m----> 1\u001b[0m metrics\u001b[38;5;241m.\u001b[39mbalanced_accuracy_score(y_train, \u001b[43my_pred_train\u001b[49m)\n",
      "\u001b[1;31mNameError\u001b[0m: name 'y_pred_train' is not defined"
     ]
    }
   ],
   "source": [
    "metrics.balanced_accuracy_score(y_train, y_pred_train)"
   ]
  },
  {
   "cell_type": "code",
   "execution_count": null,
   "id": "826f1357",
   "metadata": {},
   "outputs": [],
   "source": []
  },
  {
   "cell_type": "code",
   "execution_count": null,
   "id": "ccc3b322",
   "metadata": {},
   "outputs": [],
   "source": []
  },
  {
   "cell_type": "code",
   "execution_count": null,
   "id": "ae76274b",
   "metadata": {},
   "outputs": [],
   "source": []
  }
 ],
 "metadata": {
  "kernelspec": {
   "display_name": "mlflow",
   "language": "python",
   "name": "mlflow"
  },
  "language_info": {
   "codemirror_mode": {
    "name": "ipython",
    "version": 3
   },
   "file_extension": ".py",
   "mimetype": "text/x-python",
   "name": "python",
   "nbconvert_exporter": "python",
   "pygments_lexer": "ipython3",
   "version": "3.9.13"
  }
 },
 "nbformat": 4,
 "nbformat_minor": 5
}
